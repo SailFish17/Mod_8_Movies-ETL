{
 "cells": [
  {
   "cell_type": "markdown",
   "id": "persistent-simulation",
   "metadata": {},
   "source": [
    "This notebook is for Module 8 ETL - Extract, Transform and Load"
   ]
  },
  {
   "cell_type": "code",
   "execution_count": 1,
   "id": "respected-plate",
   "metadata": {
    "ExecuteTime": {
     "end_time": "2021-04-11T19:31:42.316797Z",
     "start_time": "2021-04-11T19:31:41.933607Z"
    }
   },
   "outputs": [],
   "source": [
    "#Import the dependencies\n",
    "import pandas as pd\n",
    "import numpy as np\n",
    "import json\n",
    "import re"
   ]
  },
  {
   "cell_type": "code",
   "execution_count": 2,
   "id": "prostate-albania",
   "metadata": {
    "ExecuteTime": {
     "end_time": "2021-04-11T19:31:42.328700Z",
     "start_time": "2021-04-11T19:31:42.322716Z"
    }
   },
   "outputs": [],
   "source": [
    "#import data file: wikipedia-movies.json\n",
    "#from the text - doesn't work\n",
    "#file_dir = 'C:\\Users\\phili\\Phil School\\Bootcamp\\Mod_8_ETL\\Class Module work\\Mod_8_with-ETL-on-FILM\\wikipedia-movies.json'\n",
    "#from teh text -doesn't work\n",
    "#file_dir = f'{C:\\Users\\phili\\Phil School\\Bootcamp\\Mod_8_ETL\\Class Module work\\Mod_8_with-ETL-on-FILM}wikipedia_movies.json'\n",
    "#reverse the slashes....also doesnt' work\n",
    "#file_dir = f'{C:/Users/phili/Phil School/Bootcamp/Mod_8_ETL/Class Module work/Mod_8_with-ETL-on-FILM}wikipedia_movies.json'\n",
    "#why does this work.\n",
    "#file_dir = f'C:/Users/phili/Phil School/Bootcamp/Mod_8_ETL/Class Module work/Mod_8_with-ETL-on-FILM/'\n",
    "file_path1 = f'C:/Users/phili/Phil School/Bootcamp/Mod_8_ETL/Class Module work/Mod_8_with-ETL-on-FILM/wikipedia-movies.json'\n",
    "file_path2_meta = f'C:/Users/phili/Phil School/Bootcamp/Mod_8_ETL/Class Module work/kaggle_data/movies_metadata.csv'\n",
    "file_path3_ratings= f'C:/Users/phili/Phil School/Bootcamp/Mod_8_ETL/Class Module work/kaggle_data/ratings.csv'"
   ]
  },
  {
   "cell_type": "code",
   "execution_count": 3,
   "id": "intended-austin",
   "metadata": {
    "ExecuteTime": {
     "end_time": "2021-04-11T19:31:42.642554Z",
     "start_time": "2021-04-11T19:31:42.331690Z"
    }
   },
   "outputs": [],
   "source": [
    "#with open (f'{file_dir}/wikipedia_movies.json', mode = 'r' )as file:\n",
    "with open(file_path1,mode='r') as file:\n",
    "    wiki_movies_raw =json.load(file)"
   ]
  },
  {
   "cell_type": "code",
   "execution_count": 4,
   "id": "naughty-hours",
   "metadata": {
    "ExecuteTime": {
     "end_time": "2021-04-11T19:31:42.734695Z",
     "start_time": "2021-04-11T19:31:42.644535Z"
    }
   },
   "outputs": [
    {
     "data": {
      "text/plain": [
       "7311"
      ]
     },
     "execution_count": 4,
     "metadata": {},
     "output_type": "execute_result"
    }
   ],
   "source": [
    "# determine the number of records\n",
    "len(wiki_movies_raw)"
   ]
  },
  {
   "cell_type": "code",
   "execution_count": 5,
   "id": "original-public",
   "metadata": {
    "ExecuteTime": {
     "end_time": "2021-04-11T19:31:42.874043Z",
     "start_time": "2021-04-11T19:31:42.735656Z"
    }
   },
   "outputs": [
    {
     "data": {
      "text/plain": [
       "[{'url': 'https://en.wikipedia.org/wiki/The_Adventures_of_Ford_Fairlane',\n",
       "  'year': 1990,\n",
       "  'imdb_link': 'https://www.imdb.com/title/tt0098987/',\n",
       "  'title': 'The Adventures of Ford Fairlane',\n",
       "  'Directed by': 'Renny Harlin',\n",
       "  'Produced by': ['Steve Perry', 'Joel Silver'],\n",
       "  'Screenplay by': ['David Arnott', 'James Cappe', 'Daniel Waters'],\n",
       "  'Story by': ['David Arnott', 'James Cappe'],\n",
       "  'Based on': ['Characters', 'by Rex Weiner'],\n",
       "  'Starring': ['Andrew Dice Clay',\n",
       "   'Wayne Newton',\n",
       "   'Priscilla Presley',\n",
       "   'Lauren Holly',\n",
       "   'Morris Day',\n",
       "   'Robert Englund',\n",
       "   \"Ed O'Neill\"],\n",
       "  'Narrated by': 'Andrew \"Dice\" Clay',\n",
       "  'Music by': ['Cliff Eidelman', 'Yello'],\n",
       "  'Cinematography': 'Oliver Wood',\n",
       "  'Edited by': 'Michael Tronick',\n",
       "  'Productioncompany ': 'Silver Pictures',\n",
       "  'Distributed by': '20th Century Fox',\n",
       "  'Release date': ['July 11, 1990', '(', '1990-07-11', ')'],\n",
       "  'Running time': '102 minutes',\n",
       "  'Country': 'United States',\n",
       "  'Language': 'English',\n",
       "  'Budget': '$20 million',\n",
       "  'Box office': '$21.4 million'},\n",
       " {'url': 'https://en.wikipedia.org/wiki/After_Dark,_My_Sweet',\n",
       "  'year': 1990,\n",
       "  'imdb_link': 'https://www.imdb.com/title/tt0098994/',\n",
       "  'title': 'After Dark, My Sweet',\n",
       "  'Directed by': 'James Foley',\n",
       "  'Produced by': ['Ric Kidney', 'Robert Redlin'],\n",
       "  'Screenplay by': ['James Foley', 'Robert Redlin'],\n",
       "  'Based on': ['the novel', 'After Dark, My Sweet', 'by', 'Jim Thompson'],\n",
       "  'Starring': ['Jason Patric',\n",
       "   'Rachel Ward',\n",
       "   'Bruce Dern',\n",
       "   'George Dickerson'],\n",
       "  'Music by': 'Maurice Jarre',\n",
       "  'Cinematography': 'Mark Plummer',\n",
       "  'Edited by': 'Howard E. Smith',\n",
       "  'Productioncompany ': 'Avenue Pictures',\n",
       "  'Distributed by': 'Avenue Pictures',\n",
       "  'Release date': ['May 17, 1990',\n",
       "   '(',\n",
       "   '1990-05-17',\n",
       "   ')',\n",
       "   '(Cannes Film Market)',\n",
       "   'August 24, 1990',\n",
       "   '(',\n",
       "   '1990-08-24',\n",
       "   ')',\n",
       "   '(United States)'],\n",
       "  'Running time': '114 minutes',\n",
       "  'Country': 'United States',\n",
       "  'Language': 'English',\n",
       "  'Budget': '$6 million',\n",
       "  'Box office': '$2.7 million'},\n",
       " {'url': 'https://en.wikipedia.org/wiki/Air_America_(film)',\n",
       "  'year': 1990,\n",
       "  'imdb_link': 'https://www.imdb.com/title/tt0099005/',\n",
       "  'title': 'Air America',\n",
       "  'Directed by': 'Roger Spottiswoode',\n",
       "  'Produced by': 'Daniel Melnick',\n",
       "  'Screenplay by': ['John Eskow', 'Richard Rush'],\n",
       "  'Based on': ['Air America', 'by', 'Christopher Robbins'],\n",
       "  'Starring': ['Mel Gibson',\n",
       "   'Robert Downey Jr.',\n",
       "   'Nancy Travis',\n",
       "   'David Marshall Grant',\n",
       "   'Lane Smith'],\n",
       "  'Music by': 'Charles Gross',\n",
       "  'Cinematography': 'Roger Deakins',\n",
       "  'Edited by': ['John Bloom', 'Lois Freeman-Fox'],\n",
       "  'Productioncompany ': ['Carolco Pictures', 'IndieProd Company'],\n",
       "  'Distributed by': 'TriStar Pictures',\n",
       "  'Release date': ['August 10, 1990', '(', '1990-08-10', ')'],\n",
       "  'Running time': '113 minutes',\n",
       "  'Country': 'United States',\n",
       "  'Language': ['English', 'Lao'],\n",
       "  'Budget': '$35 million',\n",
       "  'Box office': '$57,718,089'},\n",
       " {'url': 'https://en.wikipedia.org/wiki/Alice_(1990_film)',\n",
       "  'year': 1990,\n",
       "  'imdb_link': 'https://www.imdb.com/title/tt0099012/',\n",
       "  'title': 'Alice',\n",
       "  'Directed by': 'Woody Allen',\n",
       "  'Produced by': 'Robert Greenhut',\n",
       "  'Written by': 'Woody Allen',\n",
       "  'Starring': ['Alec Baldwin',\n",
       "   'Blythe Danner',\n",
       "   'Judy Davis',\n",
       "   'Mia Farrow',\n",
       "   'William Hurt',\n",
       "   'Keye Luke',\n",
       "   'Joe Mantegna',\n",
       "   'Bernadette Peters'],\n",
       "  'Cinematography': 'Carlo Di Palma',\n",
       "  'Edited by': 'Susan E. Morse',\n",
       "  'Distributed by': 'Orion Pictures',\n",
       "  'Release date': ['December 25, 1990', '(', '1990-12-25', ')'],\n",
       "  'Running time': '106 minutes',\n",
       "  'Country': 'United States',\n",
       "  'Language': 'English',\n",
       "  'Budget': '$12 million',\n",
       "  'Box office': '$7,331,647'},\n",
       " {'url': 'https://en.wikipedia.org/wiki/Almost_an_Angel',\n",
       "  'year': 1990,\n",
       "  'imdb_link': 'https://www.imdb.com/title/tt0099018/',\n",
       "  'title': 'Almost an Angel',\n",
       "  'Directed by': 'John Cornell',\n",
       "  'Produced by': 'John Cornell',\n",
       "  'Written by': 'Paul Hogan',\n",
       "  'Starring': ['Paul Hogan', 'Elias Koteas', 'Linda Kozlowski'],\n",
       "  'Music by': 'Maurice Jarre',\n",
       "  'Cinematography': 'Russell Boyd',\n",
       "  'Edited by': 'David Stiven',\n",
       "  'Distributed by': 'Paramount Pictures',\n",
       "  'Release date': 'December 19, 1990',\n",
       "  'Running time': '95 minutes',\n",
       "  'Country': 'US',\n",
       "  'Language': 'English',\n",
       "  'Budget': '$25 million',\n",
       "  'Box office': '$6,939,946 (USA)'}]"
      ]
     },
     "execution_count": 5,
     "metadata": {},
     "output_type": "execute_result"
    }
   ],
   "source": [
    "#look at the records\n",
    "#first 5 records\n",
    "wiki_movies_raw[:5]"
   ]
  },
  {
   "cell_type": "code",
   "execution_count": 6,
   "id": "artistic-genius",
   "metadata": {
    "ExecuteTime": {
     "end_time": "2021-04-11T19:31:43.019613Z",
     "start_time": "2021-04-11T19:31:42.875042Z"
    }
   },
   "outputs": [
    {
     "data": {
      "text/plain": [
       "[{'url': 'https://en.wikipedia.org/wiki/Holmes_%26_Watson',\n",
       "  'year': 2018,\n",
       "  'imdb_link': 'https://www.imdb.com/title/tt1255919/',\n",
       "  'title': 'Holmes & Watson',\n",
       "  'Directed by': 'Etan Cohen',\n",
       "  'Produced by': ['Will Ferrell',\n",
       "   'Adam McKay',\n",
       "   'Jimmy Miller',\n",
       "   'Clayton Townsend'],\n",
       "  'Screenplay by': 'Etan Cohen',\n",
       "  'Based on': ['Sherlock Holmes',\n",
       "   'and',\n",
       "   'Dr. Watson',\n",
       "   'by',\n",
       "   'Sir Arthur Conan Doyle'],\n",
       "  'Starring': ['Will Ferrell',\n",
       "   'John C. Reilly',\n",
       "   'Rebecca Hall',\n",
       "   'Rob Brydon',\n",
       "   'Steve Coogan',\n",
       "   'Ralph Fiennes'],\n",
       "  'Music by': 'Mark Mothersbaugh',\n",
       "  'Cinematography': 'Oliver Wood',\n",
       "  'Edited by': 'Dean Zimmerman',\n",
       "  'Productioncompanies ': ['Columbia Pictures',\n",
       "   'Gary Sanchez Productions',\n",
       "   'Mosaic Media Group',\n",
       "   'Mimran Schur Pictures'],\n",
       "  'Distributed by': 'Sony Pictures Releasing',\n",
       "  'Release date': ['December 25, 2018',\n",
       "   '(',\n",
       "   '2018-12-25',\n",
       "   ')',\n",
       "   '(United States)'],\n",
       "  'Running time': '90 minutes',\n",
       "  'Country': 'United States',\n",
       "  'Language': 'English',\n",
       "  'Budget': '$42 million',\n",
       "  'Box office': '$41.9 million'},\n",
       " {'url': 'https://en.wikipedia.org/wiki/Vice_(2018_film)',\n",
       "  'year': 2018,\n",
       "  'imdb_link': 'https://www.imdb.com/title/tt6266538/',\n",
       "  'title': 'Vice',\n",
       "  'Directed by': 'Adam McKay',\n",
       "  'Produced by': ['Brad Pitt',\n",
       "   'Dede Gardner',\n",
       "   'Jeremy Kleiner',\n",
       "   'Kevin J. Messick',\n",
       "   'Will Ferrell',\n",
       "   'Adam McKay'],\n",
       "  'Written by': 'Adam McKay',\n",
       "  'Starring': ['Christian Bale',\n",
       "   'Amy Adams',\n",
       "   'Steve Carell',\n",
       "   'Sam Rockwell',\n",
       "   'Tyler Perry',\n",
       "   'Alison Pill',\n",
       "   'Lily Rabe',\n",
       "   'Jesse Plemons'],\n",
       "  'Music by': 'Nicholas Britell',\n",
       "  'Cinematography': 'Greig Fraser',\n",
       "  'Edited by': 'Hank Corwin',\n",
       "  'Productioncompany ': ['Plan B Entertainment',\n",
       "   'Gary Sanchez Productions',\n",
       "   'Annapurna Pictures'],\n",
       "  'Distributed by': 'Mirror Releasing',\n",
       "  'Release date': ['December 11, 2018',\n",
       "   '(',\n",
       "   '2018-12-11',\n",
       "   ')',\n",
       "   '(',\n",
       "   'Samuel Goldwyn Theater',\n",
       "   ')',\n",
       "   'December 25, 2018',\n",
       "   '(',\n",
       "   '2018-12-25',\n",
       "   ')',\n",
       "   '(United States)'],\n",
       "  'Running time': '132 minutes',\n",
       "  'Country': 'United States',\n",
       "  'Language': 'English',\n",
       "  'Budget': '$60 million',\n",
       "  'Box office': '$76.1 million'},\n",
       " {'url': 'https://en.wikipedia.org/wiki/On_the_Basis_of_Sex',\n",
       "  'year': 2018,\n",
       "  'imdb_link': 'https://www.imdb.com/title/tt4669788/',\n",
       "  'title': 'On the Basis of Sex',\n",
       "  'Directed by': 'Mimi Leder',\n",
       "  'Produced by': 'Robert W. Cort',\n",
       "  'Written by': 'Daniel Stiepleman',\n",
       "  'Starring': ['Felicity Jones',\n",
       "   'Armie Hammer',\n",
       "   'Justin Theroux',\n",
       "   'Sam Waterston',\n",
       "   'Kathy Bates'],\n",
       "  'Music by': 'Mychael Danna',\n",
       "  'Cinematography': 'Michael Grady',\n",
       "  'Edited by': 'Michelle Tesoro',\n",
       "  'Productioncompanies ': ['Focus Features',\n",
       "   '[1]',\n",
       "   'Participant Media',\n",
       "   '[1]',\n",
       "   'Robert Cort Productions',\n",
       "   '[1]',\n",
       "   'Alibaba Pictures',\n",
       "   '[2]'],\n",
       "  'Distributed by': 'Focus Features',\n",
       "  'Release date': ['November 8, 2018',\n",
       "   '(',\n",
       "   '2018-11-08',\n",
       "   ')',\n",
       "   '(',\n",
       "   'AFI Fest',\n",
       "   ')',\n",
       "   'December 25, 2018',\n",
       "   '(',\n",
       "   '2018-12-25',\n",
       "   ')',\n",
       "   '(United States)'],\n",
       "  'Running time': '120 minutes',\n",
       "  'Country': 'United States',\n",
       "  'Language': 'English',\n",
       "  'Budget': '$20 million',\n",
       "  'Box office': '$38.4 million'},\n",
       " {'url': 'https://en.wikipedia.org/wiki/Destroyer_(2018_film)',\n",
       "  'year': 2018,\n",
       "  'imdb_link': 'https://www.imdb.com/title/tt7137380/',\n",
       "  'title': 'Destroyer',\n",
       "  'Directed by': 'Karyn Kusama',\n",
       "  'Produced by': ['Fred Berger', 'Phil Hay', 'Matt Manfredi'],\n",
       "  'Written by': ['Phil Hay', 'Matt Manfredi'],\n",
       "  'Starring': ['Nicole Kidman',\n",
       "   'Sebastian Stan',\n",
       "   'Toby Kebbell',\n",
       "   'Tatiana Maslany',\n",
       "   'Bradley Whitford',\n",
       "   'Jade Pettyjohn',\n",
       "   'Scoot McNairy'],\n",
       "  'Music by': 'Theodore Shapiro',\n",
       "  'Cinematography': 'Julie Kirkwood',\n",
       "  'Edited by': 'Plummy Tucker',\n",
       "  'Productioncompany ': ['30West',\n",
       "   'Automatik Entertainment',\n",
       "   'Annapurna Pictures'],\n",
       "  'Distributed by': 'Mirror Releasing',\n",
       "  'Release date': ['August 31, 2018',\n",
       "   '(',\n",
       "   '2018-08-31',\n",
       "   ')',\n",
       "   '(',\n",
       "   'Telluride',\n",
       "   ')',\n",
       "   'December 25, 2018',\n",
       "   '(',\n",
       "   '2018-12-25',\n",
       "   ')',\n",
       "   '(United States)'],\n",
       "  'Running time': '123 minutes',\n",
       "  'Country': 'United States',\n",
       "  'Language': 'English',\n",
       "  'Budget': '$9 million',\n",
       "  'Box office': '$5.5 million'},\n",
       " {'url': 'https://en.wikipedia.org/wiki/Black_Mirror:_Bandersnatch',\n",
       "  'year': 2018,\n",
       "  'imdb_link': 'https://www.imdb.com/title/tt9495224/',\n",
       "  'title': 'Bandersnatch',\n",
       "  'Directed by': 'David Slade',\n",
       "  'Produced by': 'Russell McLean',\n",
       "  'Written by': 'Charlie Brooker',\n",
       "  'Starring': ['Fionn Whitehead',\n",
       "   'Will Poulter',\n",
       "   'Craig Parkinson',\n",
       "   'Alice Lowe',\n",
       "   'Asim Chaudhry'],\n",
       "  'Music by': 'Brian Reitzell',\n",
       "  'Cinematography': ['Aaron Morton', 'Jake Polonsky'],\n",
       "  'Edited by': 'Tony Kearns',\n",
       "  'Productioncompany ': ['House of Tomorrow', 'Netflix'],\n",
       "  'Distributed by': 'Netflix',\n",
       "  'Release date': ['28 December 2018', '(', '2018-12-28', ')'],\n",
       "  'Running time': 'Variable; 90 minutes for default path',\n",
       "  'Country': 'United Kingdom',\n",
       "  'Language': 'English'}]"
      ]
     },
     "execution_count": 6,
     "metadata": {},
     "output_type": "execute_result"
    }
   ],
   "source": [
    "#look at the records\n",
    "#last 5 records\n",
    "wiki_movies_raw[-5:]"
   ]
  },
  {
   "cell_type": "code",
   "execution_count": 7,
   "id": "informational-cambridge",
   "metadata": {
    "ExecuteTime": {
     "end_time": "2021-04-11T19:31:43.171452Z",
     "start_time": "2021-04-11T19:31:43.020610Z"
    }
   },
   "outputs": [
    {
     "data": {
      "text/plain": [
       "[{'url': 'https://en.wikipedia.org/wiki/Benji:_Off_the_Leash!',\n",
       "  'year': 2004,\n",
       "  'imdb_link': 'https://www.imdb.com/title/tt0315273/',\n",
       "  'title': 'Benji: Off the Leash!',\n",
       "  'Directed by': 'Joe Camp',\n",
       "  'Written by': 'Joe Camp',\n",
       "  'Starring': ['Benji', 'Nick Whitaker', 'Shaggy', 'Gypsy the Cockatoo'],\n",
       "  'Music by': 'Antonio di Lorenzo',\n",
       "  'Productioncompany ': 'Mulberry Square Productions',\n",
       "  'Distributed by': 'Mulberry Square Productions',\n",
       "  'Release date': ['March 26, 2004', '(', '2004-03-26', ')'],\n",
       "  'Running time': '97 min',\n",
       "  'Country': 'United States',\n",
       "  'Language': 'English',\n",
       "  'Box office': '$3,817,362'},\n",
       " {'url': 'https://en.wikipedia.org/wiki/The_Best_Thief_in_the_World',\n",
       "  'year': 2004,\n",
       "  'imdb_link': 'https://www.imdb.com/title/tt0389796/',\n",
       "  'title': 'The Best Thief in the World',\n",
       "  'Directed by': 'Jacob Kornbluth',\n",
       "  'Produced by': ['Tim Perrell', 'Nicola Usborne'],\n",
       "  'Written by': 'Jacob Kornbluth',\n",
       "  'Starring': ['Marc Rozendaal',\n",
       "   'Michael Silverman',\n",
       "   'David Warshofsky',\n",
       "   'Audra McDonald',\n",
       "   'Lois Smith'],\n",
       "  'Music by': ['Prince Paul', 'and', 'Don Newkirk'],\n",
       "  'Cinematography': 'Ben Kutchins',\n",
       "  'Edited by': 'Stephanie Sterner',\n",
       "  'Distributed by': 'Showtime Networks',\n",
       "  'Release date': ['January 16, 2004', '(', '2004-01-16', ')'],\n",
       "  'Running time': '93 minutes',\n",
       "  'Country': 'United States',\n",
       "  'Language': 'English'},\n",
       " {'url': 'https://en.wikipedia.org/wiki/Beyond_the_Sea_(2004_film)',\n",
       "  'year': 2004,\n",
       "  'imdb_link': 'https://www.imdb.com/title/tt0363473/',\n",
       "  'title': 'Beyond the Sea',\n",
       "  'Directed by': 'Kevin Spacey',\n",
       "  'Produced by': ['Kevin Spacey',\n",
       "   'Phillip Barry',\n",
       "   'Dana Brunetti',\n",
       "   'Arthur Friedman',\n",
       "   'Jan Fantl',\n",
       "   'Andy Paterson'],\n",
       "  'Written by': ['Lewis Colick', 'Kevin Spacey'],\n",
       "  'Starring': ['Kevin Spacey', 'Kate Bosworth', 'Bob Hoskins', 'John Goodman'],\n",
       "  'Music by': 'Bobby Darin',\n",
       "  'Cinematography': 'Eduardo Serra',\n",
       "  'Edited by': 'Trevor Waite',\n",
       "  'Productioncompany ': 'Trigger Street Productions',\n",
       "  'Distributed by': ['Lionsgate Films',\n",
       "   '(USA)',\n",
       "   'Entertainment Film Distributors',\n",
       "   '(UK)',\n",
       "   'GAGA',\n",
       "   '(Japan)',\n",
       "   'Maple Pictures',\n",
       "   '(Canada)'],\n",
       "  'Release date': ['December 17, 2004', '(', '2004-12-17', ')'],\n",
       "  'Running time': '118 minutes',\n",
       "  'Country': 'United States',\n",
       "  'Language': 'English',\n",
       "  'Budget': '$25 million',\n",
       "  'Box office': '$8.4 million'},\n",
       " {'url': 'https://en.wikipedia.org/wiki/The_Big_Bounce_(2004_film)',\n",
       "  'year': 2004,\n",
       "  'imdb_link': 'https://www.imdb.com/title/tt0315824/',\n",
       "  'title': 'The Big Bounce',\n",
       "  'Directed by': 'George Armitage',\n",
       "  'Produced by': ['George Armitage', 'Steve Bing'],\n",
       "  'Screenplay by': 'Sebastian Gutierrez',\n",
       "  'Based on': ['The Big Bounce', 'by', 'Elmore Leonard'],\n",
       "  'Starring': ['Owen Wilson',\n",
       "   'Charlie Sheen',\n",
       "   'Morgan Freeman',\n",
       "   'Sara Foster',\n",
       "   'Gary Sinise'],\n",
       "  'Music by': 'George S. Clinton',\n",
       "  'Cinematography': 'Jeffrey L. Kimball',\n",
       "  'Edited by': 'Barry Malkin',\n",
       "  'Productioncompany ': 'Shangri-La Entertainment',\n",
       "  'Distributed by': 'Warner Bros. Pictures',\n",
       "  'Release date': ['January 30, 2004', '(', '2004-01-30', ')'],\n",
       "  'Running time': '88 minutes',\n",
       "  'Language': 'English',\n",
       "  'Budget': '$50 million',\n",
       "  'Box office': '$6.8 million'},\n",
       " {'url': 'https://en.wikipedia.org/wiki/Birth_(film)',\n",
       "  'year': 2004,\n",
       "  'imdb_link': 'https://www.imdb.com/title/tt0337876/',\n",
       "  'title': 'Birth',\n",
       "  'Directed by': 'Jonathan Glazer',\n",
       "  'Produced by': ['Lizie Gower', 'Nick Morris', 'Jean-Louis Piel'],\n",
       "  'Written by': ['Jean-Claude Carrière', 'Milo Addica', 'Jonathan Glazer'],\n",
       "  'Starring': ['Nicole Kidman',\n",
       "   'Cameron Bright',\n",
       "   'Danny Huston',\n",
       "   'Lauren Bacall'],\n",
       "  'Music by': 'Alexandre Desplat',\n",
       "  'Cinematography': 'Harris Savides',\n",
       "  'Edited by': ['Sam Sneade', 'Claus Wehlisch'],\n",
       "  'Distributed by': 'New Line Cinema',\n",
       "  'Release date': ['November 8, 2004', '(', '2004-11-08', ')'],\n",
       "  'Running time': '96 minutes',\n",
       "  'Country': 'United States',\n",
       "  'Language': 'English',\n",
       "  'Budget': '$20 million',\n",
       "  'Box office': '$23.9 million'}]"
      ]
     },
     "execution_count": 7,
     "metadata": {},
     "output_type": "execute_result"
    }
   ],
   "source": [
    "#look at the records\n",
    "#some records in the middle\n",
    "wiki_movies_raw[3600:3605]"
   ]
  },
  {
   "cell_type": "code",
   "execution_count": 8,
   "id": "facial-native",
   "metadata": {
    "ExecuteTime": {
     "end_time": "2021-04-11T19:31:51.709052Z",
     "start_time": "2021-04-11T19:31:43.173447Z"
    }
   },
   "outputs": [],
   "source": [
    "kaggle_metadata = pd.read_csv(file_path2_meta, low_memory=False)\n",
    "ratings = pd.read_csv(file_path3_ratings)"
   ]
  },
  {
   "cell_type": "code",
   "execution_count": 9,
   "id": "previous-progressive",
   "metadata": {
    "ExecuteTime": {
     "end_time": "2021-04-11T19:31:52.041165Z",
     "start_time": "2021-04-11T19:31:51.712043Z"
    }
   },
   "outputs": [
    {
     "data": {
      "text/html": [
       "<div>\n",
       "<style scoped>\n",
       "    .dataframe tbody tr th:only-of-type {\n",
       "        vertical-align: middle;\n",
       "    }\n",
       "\n",
       "    .dataframe tbody tr th {\n",
       "        vertical-align: top;\n",
       "    }\n",
       "\n",
       "    .dataframe thead th {\n",
       "        text-align: right;\n",
       "    }\n",
       "</style>\n",
       "<table border=\"1\" class=\"dataframe\">\n",
       "  <thead>\n",
       "    <tr style=\"text-align: right;\">\n",
       "      <th></th>\n",
       "      <th>url</th>\n",
       "      <th>year</th>\n",
       "      <th>imdb_link</th>\n",
       "      <th>title</th>\n",
       "      <th>Directed by</th>\n",
       "      <th>Produced by</th>\n",
       "      <th>Screenplay by</th>\n",
       "      <th>Story by</th>\n",
       "      <th>Based on</th>\n",
       "      <th>Starring</th>\n",
       "      <th>...</th>\n",
       "      <th>Predecessor</th>\n",
       "      <th>Founders</th>\n",
       "      <th>Area served</th>\n",
       "      <th>Products</th>\n",
       "      <th>Services</th>\n",
       "      <th>Russian</th>\n",
       "      <th>Hebrew</th>\n",
       "      <th>Revenue</th>\n",
       "      <th>Operating income</th>\n",
       "      <th>Polish</th>\n",
       "    </tr>\n",
       "  </thead>\n",
       "  <tbody>\n",
       "    <tr>\n",
       "      <th>0</th>\n",
       "      <td>https://en.wikipedia.org/wiki/The_Adventures_o...</td>\n",
       "      <td>1990.0</td>\n",
       "      <td>https://www.imdb.com/title/tt0098987/</td>\n",
       "      <td>The Adventures of Ford Fairlane</td>\n",
       "      <td>Renny Harlin</td>\n",
       "      <td>[Steve Perry, Joel Silver]</td>\n",
       "      <td>[David Arnott, James Cappe, Daniel Waters]</td>\n",
       "      <td>[David Arnott, James Cappe]</td>\n",
       "      <td>[Characters, by Rex Weiner]</td>\n",
       "      <td>[Andrew Dice Clay, Wayne Newton, Priscilla Pre...</td>\n",
       "      <td>...</td>\n",
       "      <td>NaN</td>\n",
       "      <td>NaN</td>\n",
       "      <td>NaN</td>\n",
       "      <td>NaN</td>\n",
       "      <td>NaN</td>\n",
       "      <td>NaN</td>\n",
       "      <td>NaN</td>\n",
       "      <td>NaN</td>\n",
       "      <td>NaN</td>\n",
       "      <td>NaN</td>\n",
       "    </tr>\n",
       "    <tr>\n",
       "      <th>1</th>\n",
       "      <td>https://en.wikipedia.org/wiki/After_Dark,_My_S...</td>\n",
       "      <td>1990.0</td>\n",
       "      <td>https://www.imdb.com/title/tt0098994/</td>\n",
       "      <td>After Dark, My Sweet</td>\n",
       "      <td>James Foley</td>\n",
       "      <td>[Ric Kidney, Robert Redlin]</td>\n",
       "      <td>[James Foley, Robert Redlin]</td>\n",
       "      <td>NaN</td>\n",
       "      <td>[the novel, After Dark, My Sweet, by, Jim Thom...</td>\n",
       "      <td>[Jason Patric, Rachel Ward, Bruce Dern, George...</td>\n",
       "      <td>...</td>\n",
       "      <td>NaN</td>\n",
       "      <td>NaN</td>\n",
       "      <td>NaN</td>\n",
       "      <td>NaN</td>\n",
       "      <td>NaN</td>\n",
       "      <td>NaN</td>\n",
       "      <td>NaN</td>\n",
       "      <td>NaN</td>\n",
       "      <td>NaN</td>\n",
       "      <td>NaN</td>\n",
       "    </tr>\n",
       "    <tr>\n",
       "      <th>2</th>\n",
       "      <td>https://en.wikipedia.org/wiki/Air_America_(film)</td>\n",
       "      <td>1990.0</td>\n",
       "      <td>https://www.imdb.com/title/tt0099005/</td>\n",
       "      <td>Air America</td>\n",
       "      <td>Roger Spottiswoode</td>\n",
       "      <td>Daniel Melnick</td>\n",
       "      <td>[John Eskow, Richard Rush]</td>\n",
       "      <td>NaN</td>\n",
       "      <td>[Air America, by, Christopher Robbins]</td>\n",
       "      <td>[Mel Gibson, Robert Downey Jr., Nancy Travis, ...</td>\n",
       "      <td>...</td>\n",
       "      <td>NaN</td>\n",
       "      <td>NaN</td>\n",
       "      <td>NaN</td>\n",
       "      <td>NaN</td>\n",
       "      <td>NaN</td>\n",
       "      <td>NaN</td>\n",
       "      <td>NaN</td>\n",
       "      <td>NaN</td>\n",
       "      <td>NaN</td>\n",
       "      <td>NaN</td>\n",
       "    </tr>\n",
       "    <tr>\n",
       "      <th>3</th>\n",
       "      <td>https://en.wikipedia.org/wiki/Alice_(1990_film)</td>\n",
       "      <td>1990.0</td>\n",
       "      <td>https://www.imdb.com/title/tt0099012/</td>\n",
       "      <td>Alice</td>\n",
       "      <td>Woody Allen</td>\n",
       "      <td>Robert Greenhut</td>\n",
       "      <td>NaN</td>\n",
       "      <td>NaN</td>\n",
       "      <td>NaN</td>\n",
       "      <td>[Alec Baldwin, Blythe Danner, Judy Davis, Mia ...</td>\n",
       "      <td>...</td>\n",
       "      <td>NaN</td>\n",
       "      <td>NaN</td>\n",
       "      <td>NaN</td>\n",
       "      <td>NaN</td>\n",
       "      <td>NaN</td>\n",
       "      <td>NaN</td>\n",
       "      <td>NaN</td>\n",
       "      <td>NaN</td>\n",
       "      <td>NaN</td>\n",
       "      <td>NaN</td>\n",
       "    </tr>\n",
       "    <tr>\n",
       "      <th>4</th>\n",
       "      <td>https://en.wikipedia.org/wiki/Almost_an_Angel</td>\n",
       "      <td>1990.0</td>\n",
       "      <td>https://www.imdb.com/title/tt0099018/</td>\n",
       "      <td>Almost an Angel</td>\n",
       "      <td>John Cornell</td>\n",
       "      <td>John Cornell</td>\n",
       "      <td>NaN</td>\n",
       "      <td>NaN</td>\n",
       "      <td>NaN</td>\n",
       "      <td>[Paul Hogan, Elias Koteas, Linda Kozlowski]</td>\n",
       "      <td>...</td>\n",
       "      <td>NaN</td>\n",
       "      <td>NaN</td>\n",
       "      <td>NaN</td>\n",
       "      <td>NaN</td>\n",
       "      <td>NaN</td>\n",
       "      <td>NaN</td>\n",
       "      <td>NaN</td>\n",
       "      <td>NaN</td>\n",
       "      <td>NaN</td>\n",
       "      <td>NaN</td>\n",
       "    </tr>\n",
       "  </tbody>\n",
       "</table>\n",
       "<p>5 rows × 193 columns</p>\n",
       "</div>"
      ],
      "text/plain": [
       "                                                 url    year  \\\n",
       "0  https://en.wikipedia.org/wiki/The_Adventures_o...  1990.0   \n",
       "1  https://en.wikipedia.org/wiki/After_Dark,_My_S...  1990.0   \n",
       "2   https://en.wikipedia.org/wiki/Air_America_(film)  1990.0   \n",
       "3    https://en.wikipedia.org/wiki/Alice_(1990_film)  1990.0   \n",
       "4      https://en.wikipedia.org/wiki/Almost_an_Angel  1990.0   \n",
       "\n",
       "                               imdb_link                            title  \\\n",
       "0  https://www.imdb.com/title/tt0098987/  The Adventures of Ford Fairlane   \n",
       "1  https://www.imdb.com/title/tt0098994/             After Dark, My Sweet   \n",
       "2  https://www.imdb.com/title/tt0099005/                      Air America   \n",
       "3  https://www.imdb.com/title/tt0099012/                            Alice   \n",
       "4  https://www.imdb.com/title/tt0099018/                  Almost an Angel   \n",
       "\n",
       "          Directed by                  Produced by  \\\n",
       "0        Renny Harlin   [Steve Perry, Joel Silver]   \n",
       "1         James Foley  [Ric Kidney, Robert Redlin]   \n",
       "2  Roger Spottiswoode               Daniel Melnick   \n",
       "3         Woody Allen              Robert Greenhut   \n",
       "4        John Cornell                 John Cornell   \n",
       "\n",
       "                                Screenplay by                     Story by  \\\n",
       "0  [David Arnott, James Cappe, Daniel Waters]  [David Arnott, James Cappe]   \n",
       "1                [James Foley, Robert Redlin]                          NaN   \n",
       "2                  [John Eskow, Richard Rush]                          NaN   \n",
       "3                                         NaN                          NaN   \n",
       "4                                         NaN                          NaN   \n",
       "\n",
       "                                            Based on  \\\n",
       "0                        [Characters, by Rex Weiner]   \n",
       "1  [the novel, After Dark, My Sweet, by, Jim Thom...   \n",
       "2             [Air America, by, Christopher Robbins]   \n",
       "3                                                NaN   \n",
       "4                                                NaN   \n",
       "\n",
       "                                            Starring  ... Predecessor  \\\n",
       "0  [Andrew Dice Clay, Wayne Newton, Priscilla Pre...  ...         NaN   \n",
       "1  [Jason Patric, Rachel Ward, Bruce Dern, George...  ...         NaN   \n",
       "2  [Mel Gibson, Robert Downey Jr., Nancy Travis, ...  ...         NaN   \n",
       "3  [Alec Baldwin, Blythe Danner, Judy Davis, Mia ...  ...         NaN   \n",
       "4        [Paul Hogan, Elias Koteas, Linda Kozlowski]  ...         NaN   \n",
       "\n",
       "  Founders Area served Products Services Russian Hebrew Revenue  \\\n",
       "0      NaN         NaN      NaN      NaN     NaN    NaN     NaN   \n",
       "1      NaN         NaN      NaN      NaN     NaN    NaN     NaN   \n",
       "2      NaN         NaN      NaN      NaN     NaN    NaN     NaN   \n",
       "3      NaN         NaN      NaN      NaN     NaN    NaN     NaN   \n",
       "4      NaN         NaN      NaN      NaN     NaN    NaN     NaN   \n",
       "\n",
       "  Operating income Polish  \n",
       "0              NaN    NaN  \n",
       "1              NaN    NaN  \n",
       "2              NaN    NaN  \n",
       "3              NaN    NaN  \n",
       "4              NaN    NaN  \n",
       "\n",
       "[5 rows x 193 columns]"
      ]
     },
     "execution_count": 9,
     "metadata": {},
     "output_type": "execute_result"
    }
   ],
   "source": [
    "#review the dataframe\n",
    "wiki_movies_df = pd.DataFrame(wiki_movies_raw)\n",
    "wiki_movies_df.head()"
   ]
  },
  {
   "cell_type": "code",
   "execution_count": 10,
   "id": "convenient-installation",
   "metadata": {
    "ExecuteTime": {
     "end_time": "2021-04-11T19:31:52.051175Z",
     "start_time": "2021-04-11T19:31:52.044156Z"
    }
   },
   "outputs": [
    {
     "data": {
      "text/plain": [
       "['url',\n",
       " 'year',\n",
       " 'imdb_link',\n",
       " 'title',\n",
       " 'Directed by',\n",
       " 'Produced by',\n",
       " 'Screenplay by',\n",
       " 'Story by',\n",
       " 'Based on',\n",
       " 'Starring',\n",
       " 'Narrated by',\n",
       " 'Music by',\n",
       " 'Cinematography',\n",
       " 'Edited by',\n",
       " 'Productioncompany ',\n",
       " 'Distributed by',\n",
       " 'Release date',\n",
       " 'Running time',\n",
       " 'Country',\n",
       " 'Language',\n",
       " 'Budget',\n",
       " 'Box office',\n",
       " 'Written by',\n",
       " 'Genre',\n",
       " 'Theme music composer',\n",
       " 'Country of origin',\n",
       " 'Original language(s)',\n",
       " 'Producer(s)',\n",
       " 'Editor(s)',\n",
       " 'Production company(s)',\n",
       " 'Original network',\n",
       " 'Original release',\n",
       " 'Productioncompanies ',\n",
       " 'Executive producer(s)',\n",
       " 'Production location(s)',\n",
       " 'Distributor',\n",
       " 'Picture format',\n",
       " 'Audio format',\n",
       " 'Voices of',\n",
       " 'Followed by',\n",
       " 'Composer(s)',\n",
       " 'Created by',\n",
       " 'Also known as',\n",
       " 'Opening theme',\n",
       " 'No. of episodes',\n",
       " 'Preceded by',\n",
       " 'Author',\n",
       " 'Publisher',\n",
       " 'Publication date',\n",
       " 'Media type',\n",
       " 'Pages',\n",
       " 'ISBN',\n",
       " 'OCLC',\n",
       " 'LC Class',\n",
       " 'Cover artist',\n",
       " 'Series',\n",
       " 'Set in',\n",
       " 'Adaptation by',\n",
       " 'Suggested by',\n",
       " 'Biographical data',\n",
       " 'Born',\n",
       " 'Died',\n",
       " 'Resting place',\n",
       " 'Occupation',\n",
       " 'Years active',\n",
       " 'Spouse(s)',\n",
       " 'Children',\n",
       " 'Parent(s)',\n",
       " 'Genres',\n",
       " 'Instruments',\n",
       " 'Labels',\n",
       " 'Website',\n",
       " 'Traditional',\n",
       " 'Mandarin',\n",
       " 'Type',\n",
       " 'Industry',\n",
       " 'Fate',\n",
       " 'Founded',\n",
       " 'Founder',\n",
       " 'Headquarters',\n",
       " 'Parent',\n",
       " 'Released',\n",
       " 'Recorded',\n",
       " 'Venue',\n",
       " 'Length',\n",
       " 'Label',\n",
       " 'Director',\n",
       " 'Producer',\n",
       " 'Area',\n",
       " 'Coordinates',\n",
       " 'Status',\n",
       " 'Opening date',\n",
       " 'Closing date',\n",
       " 'Replaced',\n",
       " 'Replaced by',\n",
       " 'Name',\n",
       " 'Attraction type',\n",
       " 'Music',\n",
       " 'Duration',\n",
       " 'Simplified Chinese',\n",
       " 'Traditional Chinese',\n",
       " 'Hanyu Pinyin',\n",
       " 'Literal meaning',\n",
       " 'Transcriptions',\n",
       " 'Bopomofo',\n",
       " 'Gwoyeu Romatzyh',\n",
       " 'Wade–Giles',\n",
       " 'IPA',\n",
       " 'Yale Romanization',\n",
       " 'Jyutping',\n",
       " 'Hokkien POJ',\n",
       " 'Animation by',\n",
       " 'Color process',\n",
       " 'Engine(s)',\n",
       " 'Genre(s)',\n",
       " 'Actor control',\n",
       " 'Production company',\n",
       " 'Release(s)',\n",
       " 'Format(s)',\n",
       " 'Simplified',\n",
       " 'Characters',\n",
       " 'Date premiered',\n",
       " 'Place premiered',\n",
       " 'Setting',\n",
       " 'Original language',\n",
       " 'Subject',\n",
       " 'Published',\n",
       " 'Dewey Decimal',\n",
       " 'Text',\n",
       " 'Illustrator',\n",
       " 'Original title',\n",
       " 'Published in English',\n",
       " 'French',\n",
       " 'Developed by',\n",
       " 'Ending theme',\n",
       " 'No. of seasons',\n",
       " 'Nationality',\n",
       " 'Portrayed by',\n",
       " 'Alias',\n",
       " 'Species',\n",
       " 'Gender',\n",
       " 'Family',\n",
       " 'Alma mater',\n",
       " 'Camera setup',\n",
       " 'Novel(s)',\n",
       " 'Comics',\n",
       " 'Film(s)',\n",
       " 'Screen story by',\n",
       " 'Hangul',\n",
       " 'Revised Romanization',\n",
       " 'McCune–Reischauer',\n",
       " 'Developer(s)',\n",
       " 'Publisher(s)',\n",
       " 'Designer(s)',\n",
       " 'Programmer(s)',\n",
       " 'Artist(s)',\n",
       " 'Writer(s)',\n",
       " 'Engine',\n",
       " 'Platform(s)',\n",
       " 'Release',\n",
       " 'Mode(s)',\n",
       " 'Original work',\n",
       " 'Television series',\n",
       " 'Japanese',\n",
       " 'Hepburn',\n",
       " 'Literally',\n",
       " 'Cantonese',\n",
       " 'Full name',\n",
       " 'Height',\n",
       " 'Seasons',\n",
       " 'Chinese',\n",
       " 'Other names',\n",
       " 'Relatives',\n",
       " 'Yiddish',\n",
       " 'Formerly',\n",
       " 'Key people',\n",
       " 'Total assets',\n",
       " 'Owner',\n",
       " 'Number of employees',\n",
       " 'Divisions',\n",
       " 'Subsidiaries',\n",
       " 'Arabic',\n",
       " 'Romanized',\n",
       " 'Predecessor',\n",
       " 'Founders',\n",
       " 'Area served',\n",
       " 'Products',\n",
       " 'Services',\n",
       " 'Russian',\n",
       " 'Hebrew',\n",
       " 'Revenue',\n",
       " 'Operating income',\n",
       " 'Polish']"
      ]
     },
     "execution_count": 10,
     "metadata": {},
     "output_type": "execute_result"
    }
   ],
   "source": [
    "#when the df is too many columns, show them as a list to see them all.\n",
    "wiki_movies_df.columns.tolist()"
   ]
  },
  {
   "cell_type": "markdown",
   "id": "lesbian-warner",
   "metadata": {},
   "source": [
    "#### Use List Comprehensions to Filter Data"
   ]
  },
  {
   "cell_type": "code",
   "execution_count": 11,
   "id": "awful-fireplace",
   "metadata": {
    "ExecuteTime": {
     "end_time": "2021-04-11T19:31:52.202734Z",
     "start_time": "2021-04-11T19:31:52.052134Z"
    }
   },
   "outputs": [
    {
     "data": {
      "text/plain": [
       "7080"
      ]
     },
     "execution_count": 11,
     "metadata": {},
     "output_type": "execute_result"
    }
   ],
   "source": [
    "wiki_movies = [movie for movie in wiki_movies_raw\n",
    "               if ('Director' in movie or 'Directed by' in movie) and 'imdb_link' in movie]\n",
    "len(wiki_movies)"
   ]
  },
  {
   "cell_type": "code",
   "execution_count": 12,
   "id": "interstate-polls",
   "metadata": {
    "ExecuteTime": {
     "end_time": "2021-04-11T19:31:52.342468Z",
     "start_time": "2021-04-11T19:31:52.204726Z"
    }
   },
   "outputs": [
    {
     "data": {
      "text/plain": [
       "7076"
      ]
     },
     "execution_count": 12,
     "metadata": {},
     "output_type": "execute_result"
    }
   ],
   "source": [
    "wiki_movies = [movie for movie in wiki_movies_raw\n",
    "               if ('Director' in movie or 'Directed by' in movie)\n",
    "                   and 'imdb_link' in movie\n",
    "                   and 'No. of episodes' not in movie]\n",
    "len(wiki_movies)"
   ]
  },
  {
   "cell_type": "markdown",
   "id": "collaborative-ranch",
   "metadata": {},
   "source": [
    "#### Functions\n",
    "\n",
    "write a simple function to make a copy of the movie and return it. As we work with our data, we'll iteratively add more to our code block. To start, call the function clean_movie, and have it take movie as a parameter.\n",
    "\n",
    "Because the movies are dicts and we want to make nondestructive edits, make a copy of the incoming movie.\n",
    "\n",
    "To make a copy of movie, we'll use the dict() constructor. When we pass movie as a parameter to the dict() constructor, it reserves a new space in memory and copies all of the info in movie to that new space.\n",
    "\n",
    "As an example, we could start our function off with this code:\n",
    "\n",
    "Inside of the function, we can create a new local variable called movie and assign it the new copy of the parameter movie.\n",
    "\n",
    "This way, inside of the clean_movie() function, movie will refer to the local copy. Any changes we make inside clean_movie() will now only affect the copy, so if we make a mistake, we still have the original, untouched movie to reference."
   ]
  },
  {
   "cell_type": "code",
   "execution_count": 13,
   "id": "modern-gathering",
   "metadata": {
    "ExecuteTime": {
     "end_time": "2021-04-11T19:31:52.469719Z",
     "start_time": "2021-04-11T19:31:52.344462Z"
    }
   },
   "outputs": [],
   "source": [
    "def clean_movie(movie):\n",
    "    movie_copy = dict(movie) #create a non-destructive copy\n",
    "    return movie"
   ]
  },
  {
   "cell_type": "markdown",
   "id": "manual-passenger",
   "metadata": {},
   "source": [
    "check on languages first to appear is arabic. check what you get"
   ]
  },
  {
   "cell_type": "code",
   "execution_count": 14,
   "id": "thousand-template",
   "metadata": {
    "ExecuteTime": {
     "end_time": "2021-04-11T19:31:52.620650Z",
     "start_time": "2021-04-11T19:31:52.470678Z"
    }
   },
   "outputs": [
    {
     "data": {
      "text/html": [
       "<div>\n",
       "<style scoped>\n",
       "    .dataframe tbody tr th:only-of-type {\n",
       "        vertical-align: middle;\n",
       "    }\n",
       "\n",
       "    .dataframe tbody tr th {\n",
       "        vertical-align: top;\n",
       "    }\n",
       "\n",
       "    .dataframe thead th {\n",
       "        text-align: right;\n",
       "    }\n",
       "</style>\n",
       "<table border=\"1\" class=\"dataframe\">\n",
       "  <thead>\n",
       "    <tr style=\"text-align: right;\">\n",
       "      <th></th>\n",
       "      <th>url</th>\n",
       "      <th>year</th>\n",
       "      <th>imdb_link</th>\n",
       "      <th>title</th>\n",
       "      <th>Directed by</th>\n",
       "      <th>Produced by</th>\n",
       "      <th>Screenplay by</th>\n",
       "      <th>Story by</th>\n",
       "      <th>Based on</th>\n",
       "      <th>Starring</th>\n",
       "      <th>...</th>\n",
       "      <th>Predecessor</th>\n",
       "      <th>Founders</th>\n",
       "      <th>Area served</th>\n",
       "      <th>Products</th>\n",
       "      <th>Services</th>\n",
       "      <th>Russian</th>\n",
       "      <th>Hebrew</th>\n",
       "      <th>Revenue</th>\n",
       "      <th>Operating income</th>\n",
       "      <th>Polish</th>\n",
       "    </tr>\n",
       "  </thead>\n",
       "  <tbody>\n",
       "    <tr>\n",
       "      <th>7060</th>\n",
       "      <td>https://en.wikipedia.org/wiki/The_Insult_(film)</td>\n",
       "      <td>2018.0</td>\n",
       "      <td>https://www.imdb.com/title/tt7048622/</td>\n",
       "      <td>The Insult</td>\n",
       "      <td>Ziad Doueiri</td>\n",
       "      <td>[Rachid Bouchareb, Jean Bréhat, Julie Gayet, A...</td>\n",
       "      <td>NaN</td>\n",
       "      <td>NaN</td>\n",
       "      <td>NaN</td>\n",
       "      <td>[Adel Karam, Kamel El Basha]</td>\n",
       "      <td>...</td>\n",
       "      <td>NaN</td>\n",
       "      <td>NaN</td>\n",
       "      <td>NaN</td>\n",
       "      <td>NaN</td>\n",
       "      <td>NaN</td>\n",
       "      <td>NaN</td>\n",
       "      <td>NaN</td>\n",
       "      <td>NaN</td>\n",
       "      <td>NaN</td>\n",
       "      <td>NaN</td>\n",
       "    </tr>\n",
       "    <tr>\n",
       "      <th>7293</th>\n",
       "      <td>https://en.wikipedia.org/wiki/Capernaum_(film)</td>\n",
       "      <td>2018.0</td>\n",
       "      <td>https://www.imdb.com/title/tt8267604/</td>\n",
       "      <td>Capernaum</td>\n",
       "      <td>Nadine Labaki</td>\n",
       "      <td>[Michel Merkt, Khaled Mouzanar]</td>\n",
       "      <td>[Nadine Labaki, Jihad Hojaily, Michelle Keserw...</td>\n",
       "      <td>[Georges Khabbaz, Nadine Labaki, Michelle Kese...</td>\n",
       "      <td>NaN</td>\n",
       "      <td>[Zain Al Rafeea, Yordanos Shiferaw, Boluwatife...</td>\n",
       "      <td>...</td>\n",
       "      <td>NaN</td>\n",
       "      <td>NaN</td>\n",
       "      <td>NaN</td>\n",
       "      <td>NaN</td>\n",
       "      <td>NaN</td>\n",
       "      <td>NaN</td>\n",
       "      <td>NaN</td>\n",
       "      <td>NaN</td>\n",
       "      <td>NaN</td>\n",
       "      <td>NaN</td>\n",
       "    </tr>\n",
       "  </tbody>\n",
       "</table>\n",
       "<p>2 rows × 193 columns</p>\n",
       "</div>"
      ],
      "text/plain": [
       "                                                  url    year  \\\n",
       "7060  https://en.wikipedia.org/wiki/The_Insult_(film)  2018.0   \n",
       "7293   https://en.wikipedia.org/wiki/Capernaum_(film)  2018.0   \n",
       "\n",
       "                                  imdb_link       title    Directed by  \\\n",
       "7060  https://www.imdb.com/title/tt7048622/  The Insult   Ziad Doueiri   \n",
       "7293  https://www.imdb.com/title/tt8267604/   Capernaum  Nadine Labaki   \n",
       "\n",
       "                                            Produced by  \\\n",
       "7060  [Rachid Bouchareb, Jean Bréhat, Julie Gayet, A...   \n",
       "7293                    [Michel Merkt, Khaled Mouzanar]   \n",
       "\n",
       "                                          Screenplay by  \\\n",
       "7060                                                NaN   \n",
       "7293  [Nadine Labaki, Jihad Hojaily, Michelle Keserw...   \n",
       "\n",
       "                                               Story by Based on  \\\n",
       "7060                                                NaN      NaN   \n",
       "7293  [Georges Khabbaz, Nadine Labaki, Michelle Kese...      NaN   \n",
       "\n",
       "                                               Starring  ... Predecessor  \\\n",
       "7060                       [Adel Karam, Kamel El Basha]  ...         NaN   \n",
       "7293  [Zain Al Rafeea, Yordanos Shiferaw, Boluwatife...  ...         NaN   \n",
       "\n",
       "     Founders Area served Products Services Russian Hebrew Revenue  \\\n",
       "7060      NaN         NaN      NaN      NaN     NaN    NaN     NaN   \n",
       "7293      NaN         NaN      NaN      NaN     NaN    NaN     NaN   \n",
       "\n",
       "     Operating income Polish  \n",
       "7060              NaN    NaN  \n",
       "7293              NaN    NaN  \n",
       "\n",
       "[2 rows x 193 columns]"
      ]
     },
     "execution_count": 14,
     "metadata": {},
     "output_type": "execute_result"
    }
   ],
   "source": [
    "wiki_movies_df[wiki_movies_df['Arabic'].notnull()]"
   ]
  },
  {
   "cell_type": "code",
   "execution_count": 15,
   "id": "rising-majority",
   "metadata": {
    "ExecuteTime": {
     "end_time": "2021-04-11T19:31:52.782326Z",
     "start_time": "2021-04-11T19:31:52.621608Z"
    }
   },
   "outputs": [
    {
     "data": {
      "text/plain": [
       "7060    https://en.wikipedia.org/wiki/The_Insult_(film)\n",
       "7293     https://en.wikipedia.org/wiki/Capernaum_(film)\n",
       "Name: url, dtype: object"
      ]
     },
     "execution_count": 15,
     "metadata": {},
     "output_type": "execute_result"
    }
   ],
   "source": [
    "# review the website of the first film above\n",
    "wiki_movies_df[wiki_movies_df['Arabic'].notnull()]['url']"
   ]
  },
  {
   "cell_type": "code",
   "execution_count": 16,
   "id": "rising-helen",
   "metadata": {
    "ExecuteTime": {
     "end_time": "2021-04-11T19:31:52.951002Z",
     "start_time": "2021-04-11T19:31:52.783323Z"
    }
   },
   "outputs": [
    {
     "data": {
      "text/plain": [
       "['Actor control',\n",
       " 'Adaptation by',\n",
       " 'Alias',\n",
       " 'Alma mater',\n",
       " 'Also known as',\n",
       " 'Animation by',\n",
       " 'Arabic',\n",
       " 'Area',\n",
       " 'Area served',\n",
       " 'Artist(s)',\n",
       " 'Attraction type',\n",
       " 'Audio format',\n",
       " 'Author',\n",
       " 'Based on',\n",
       " 'Biographical data',\n",
       " 'Bopomofo',\n",
       " 'Born',\n",
       " 'Box office',\n",
       " 'Budget',\n",
       " 'Camera setup',\n",
       " 'Cantonese',\n",
       " 'Characters',\n",
       " 'Children',\n",
       " 'Chinese',\n",
       " 'Cinematography',\n",
       " 'Closing date',\n",
       " 'Color process',\n",
       " 'Comics',\n",
       " 'Composer(s)',\n",
       " 'Coordinates',\n",
       " 'Country',\n",
       " 'Country of origin',\n",
       " 'Cover artist',\n",
       " 'Created by',\n",
       " 'Date premiered',\n",
       " 'Designer(s)',\n",
       " 'Developed by',\n",
       " 'Developer(s)',\n",
       " 'Dewey Decimal',\n",
       " 'Died',\n",
       " 'Directed by',\n",
       " 'Director',\n",
       " 'Distributed by',\n",
       " 'Distributor',\n",
       " 'Divisions',\n",
       " 'Duration',\n",
       " 'Edited by',\n",
       " 'Editor(s)',\n",
       " 'Ending theme',\n",
       " 'Engine',\n",
       " 'Engine(s)',\n",
       " 'Executive producer(s)',\n",
       " 'Family',\n",
       " 'Fate',\n",
       " 'Film(s)',\n",
       " 'Followed by',\n",
       " 'Format(s)',\n",
       " 'Formerly',\n",
       " 'Founded',\n",
       " 'Founder',\n",
       " 'Founders',\n",
       " 'French',\n",
       " 'Full name',\n",
       " 'Gender',\n",
       " 'Genre',\n",
       " 'Genre(s)',\n",
       " 'Genres',\n",
       " 'Gwoyeu Romatzyh',\n",
       " 'Hangul',\n",
       " 'Hanyu Pinyin',\n",
       " 'Headquarters',\n",
       " 'Hebrew',\n",
       " 'Height',\n",
       " 'Hepburn',\n",
       " 'Hokkien POJ',\n",
       " 'IPA',\n",
       " 'ISBN',\n",
       " 'Illustrator',\n",
       " 'Industry',\n",
       " 'Instruments',\n",
       " 'Japanese',\n",
       " 'Jyutping',\n",
       " 'Key people',\n",
       " 'LC Class',\n",
       " 'Label',\n",
       " 'Labels',\n",
       " 'Language',\n",
       " 'Length',\n",
       " 'Literal meaning',\n",
       " 'Literally',\n",
       " 'Mandarin',\n",
       " 'McCune–Reischauer',\n",
       " 'Media type',\n",
       " 'Mode(s)',\n",
       " 'Music',\n",
       " 'Music by',\n",
       " 'Name',\n",
       " 'Narrated by',\n",
       " 'Nationality',\n",
       " 'No. of episodes',\n",
       " 'No. of seasons',\n",
       " 'Novel(s)',\n",
       " 'Number of employees',\n",
       " 'OCLC',\n",
       " 'Occupation',\n",
       " 'Opening date',\n",
       " 'Opening theme',\n",
       " 'Operating income',\n",
       " 'Original language',\n",
       " 'Original language(s)',\n",
       " 'Original network',\n",
       " 'Original release',\n",
       " 'Original title',\n",
       " 'Original work',\n",
       " 'Other names',\n",
       " 'Owner',\n",
       " 'Pages',\n",
       " 'Parent',\n",
       " 'Parent(s)',\n",
       " 'Picture format',\n",
       " 'Place premiered',\n",
       " 'Platform(s)',\n",
       " 'Polish',\n",
       " 'Portrayed by',\n",
       " 'Preceded by',\n",
       " 'Predecessor',\n",
       " 'Produced by',\n",
       " 'Producer',\n",
       " 'Producer(s)',\n",
       " 'Production company',\n",
       " 'Production company(s)',\n",
       " 'Production location(s)',\n",
       " 'Productioncompanies ',\n",
       " 'Productioncompany ',\n",
       " 'Products',\n",
       " 'Programmer(s)',\n",
       " 'Publication date',\n",
       " 'Published',\n",
       " 'Published in English',\n",
       " 'Publisher',\n",
       " 'Publisher(s)',\n",
       " 'Recorded',\n",
       " 'Relatives',\n",
       " 'Release',\n",
       " 'Release date',\n",
       " 'Release(s)',\n",
       " 'Released',\n",
       " 'Replaced',\n",
       " 'Replaced by',\n",
       " 'Resting place',\n",
       " 'Revenue',\n",
       " 'Revised Romanization',\n",
       " 'Romanized',\n",
       " 'Running time',\n",
       " 'Russian',\n",
       " 'Screen story by',\n",
       " 'Screenplay by',\n",
       " 'Seasons',\n",
       " 'Series',\n",
       " 'Services',\n",
       " 'Set in',\n",
       " 'Setting',\n",
       " 'Simplified',\n",
       " 'Simplified Chinese',\n",
       " 'Species',\n",
       " 'Spouse(s)',\n",
       " 'Starring',\n",
       " 'Status',\n",
       " 'Story by',\n",
       " 'Subject',\n",
       " 'Subsidiaries',\n",
       " 'Suggested by',\n",
       " 'Television series',\n",
       " 'Text',\n",
       " 'Theme music composer',\n",
       " 'Total assets',\n",
       " 'Traditional',\n",
       " 'Traditional Chinese',\n",
       " 'Transcriptions',\n",
       " 'Type',\n",
       " 'Venue',\n",
       " 'Voices of',\n",
       " 'Wade–Giles',\n",
       " 'Website',\n",
       " 'Writer(s)',\n",
       " 'Written by',\n",
       " 'Yale Romanization',\n",
       " 'Years active',\n",
       " 'Yiddish',\n",
       " 'imdb_link',\n",
       " 'title',\n",
       " 'url',\n",
       " 'year']"
      ]
     },
     "execution_count": 16,
     "metadata": {},
     "output_type": "execute_result"
    }
   ],
   "source": [
    "# sort the columns in alpha order to review data and remove unnecessary columns\n",
    "sorted(wiki_movies_df.columns.tolist())"
   ]
  },
  {
   "cell_type": "code",
   "execution_count": 17,
   "id": "popular-logan",
   "metadata": {
    "ExecuteTime": {
     "end_time": "2021-04-11T19:31:53.257279Z",
     "start_time": "2021-04-11T19:31:52.951963Z"
    }
   },
   "outputs": [
    {
     "data": {
      "text/html": [
       "<div>\n",
       "<style scoped>\n",
       "    .dataframe tbody tr th:only-of-type {\n",
       "        vertical-align: middle;\n",
       "    }\n",
       "\n",
       "    .dataframe tbody tr th {\n",
       "        vertical-align: top;\n",
       "    }\n",
       "\n",
       "    .dataframe thead th {\n",
       "        text-align: right;\n",
       "    }\n",
       "</style>\n",
       "<table border=\"1\" class=\"dataframe\">\n",
       "  <thead>\n",
       "    <tr style=\"text-align: right;\">\n",
       "      <th></th>\n",
       "      <th>year</th>\n",
       "    </tr>\n",
       "  </thead>\n",
       "  <tbody>\n",
       "    <tr>\n",
       "      <th>count</th>\n",
       "      <td>7153.000000</td>\n",
       "    </tr>\n",
       "    <tr>\n",
       "      <th>mean</th>\n",
       "      <td>2003.701244</td>\n",
       "    </tr>\n",
       "    <tr>\n",
       "      <th>std</th>\n",
       "      <td>8.215588</td>\n",
       "    </tr>\n",
       "    <tr>\n",
       "      <th>min</th>\n",
       "      <td>1990.000000</td>\n",
       "    </tr>\n",
       "    <tr>\n",
       "      <th>25%</th>\n",
       "      <td>1996.000000</td>\n",
       "    </tr>\n",
       "    <tr>\n",
       "      <th>50%</th>\n",
       "      <td>2004.000000</td>\n",
       "    </tr>\n",
       "    <tr>\n",
       "      <th>75%</th>\n",
       "      <td>2011.000000</td>\n",
       "    </tr>\n",
       "    <tr>\n",
       "      <th>max</th>\n",
       "      <td>2018.000000</td>\n",
       "    </tr>\n",
       "  </tbody>\n",
       "</table>\n",
       "</div>"
      ],
      "text/plain": [
       "              year\n",
       "count  7153.000000\n",
       "mean   2003.701244\n",
       "std       8.215588\n",
       "min    1990.000000\n",
       "25%    1996.000000\n",
       "50%    2004.000000\n",
       "75%    2011.000000\n",
       "max    2018.000000"
      ]
     },
     "execution_count": 17,
     "metadata": {},
     "output_type": "execute_result"
    }
   ],
   "source": [
    "#wiki_movies_df[wiki_movies_df['Arabic'].notnull()]['url']\n",
    "wiki_movies_df.describe()"
   ]
  },
  {
   "cell_type": "code",
   "execution_count": 18,
   "id": "labeled-interstate",
   "metadata": {
    "ExecuteTime": {
     "end_time": "2021-04-11T19:31:53.468860Z",
     "start_time": "2021-04-11T19:31:53.259235Z"
    }
   },
   "outputs": [
    {
     "name": "stdout",
     "output_type": "stream",
     "text": [
      "<class 'pandas.core.frame.DataFrame'>\n",
      "RangeIndex: 7311 entries, 0 to 7310\n",
      "Data columns (total 193 columns):\n",
      " #    Column                  Dtype  \n",
      "---   ------                  -----  \n",
      " 0    url                     object \n",
      " 1    year                    float64\n",
      " 2    imdb_link               object \n",
      " 3    title                   object \n",
      " 4    Directed by             object \n",
      " 5    Produced by             object \n",
      " 6    Screenplay by           object \n",
      " 7    Story by                object \n",
      " 8    Based on                object \n",
      " 9    Starring                object \n",
      " 10   Narrated by             object \n",
      " 11   Music by                object \n",
      " 12   Cinematography          object \n",
      " 13   Edited by               object \n",
      " 14   Productioncompany       object \n",
      " 15   Distributed by          object \n",
      " 16   Release date            object \n",
      " 17   Running time            object \n",
      " 18   Country                 object \n",
      " 19   Language                object \n",
      " 20   Budget                  object \n",
      " 21   Box office              object \n",
      " 22   Written by              object \n",
      " 23   Genre                   object \n",
      " 24   Theme music composer    object \n",
      " 25   Country of origin       object \n",
      " 26   Original language(s)    object \n",
      " 27   Producer(s)             object \n",
      " 28   Editor(s)               object \n",
      " 29   Production company(s)   object \n",
      " 30   Original network        object \n",
      " 31   Original release        object \n",
      " 32   Productioncompanies     object \n",
      " 33   Executive producer(s)   object \n",
      " 34   Production location(s)  object \n",
      " 35   Distributor             object \n",
      " 36   Picture format          object \n",
      " 37   Audio format            object \n",
      " 38   Voices of               object \n",
      " 39   Followed by             object \n",
      " 40   Composer(s)             object \n",
      " 41   Created by              object \n",
      " 42   Also known as           object \n",
      " 43   Opening theme           object \n",
      " 44   No. of episodes         object \n",
      " 45   Preceded by             object \n",
      " 46   Author                  object \n",
      " 47   Publisher               object \n",
      " 48   Publication date        object \n",
      " 49   Media type              object \n",
      " 50   Pages                   object \n",
      " 51   ISBN                    object \n",
      " 52   OCLC                    object \n",
      " 53   LC Class                object \n",
      " 54   Cover artist            object \n",
      " 55   Series                  object \n",
      " 56   Set in                  object \n",
      " 57   Adaptation by           object \n",
      " 58   Suggested by            object \n",
      " 59   Biographical data       object \n",
      " 60   Born                    object \n",
      " 61   Died                    object \n",
      " 62   Resting place           object \n",
      " 63   Occupation              object \n",
      " 64   Years active            object \n",
      " 65   Spouse(s)               object \n",
      " 66   Children                object \n",
      " 67   Parent(s)               object \n",
      " 68   Genres                  object \n",
      " 69   Instruments             object \n",
      " 70   Labels                  object \n",
      " 71   Website                 object \n",
      " 72   Traditional             object \n",
      " 73   Mandarin                object \n",
      " 74   Type                    object \n",
      " 75   Industry                object \n",
      " 76   Fate                    object \n",
      " 77   Founded                 object \n",
      " 78   Founder                 object \n",
      " 79   Headquarters            object \n",
      " 80   Parent                  object \n",
      " 81   Released                object \n",
      " 82   Recorded                object \n",
      " 83   Venue                   object \n",
      " 84   Length                  object \n",
      " 85   Label                   object \n",
      " 86   Director                object \n",
      " 87   Producer                object \n",
      " 88   Area                    object \n",
      " 89   Coordinates             object \n",
      " 90   Status                  object \n",
      " 91   Opening date            object \n",
      " 92   Closing date            object \n",
      " 93   Replaced                object \n",
      " 94   Replaced by             object \n",
      " 95   Name                    object \n",
      " 96   Attraction type         object \n",
      " 97   Music                   object \n",
      " 98   Duration                object \n",
      " 99   Simplified Chinese      object \n",
      " 100  Traditional Chinese     object \n",
      " 101  Hanyu Pinyin            object \n",
      " 102  Literal meaning         object \n",
      " 103  Transcriptions          object \n",
      " 104  Bopomofo                object \n",
      " 105  Gwoyeu Romatzyh         object \n",
      " 106  Wade–Giles              object \n",
      " 107  IPA                     object \n",
      " 108  Yale Romanization       object \n",
      " 109  Jyutping                object \n",
      " 110  Hokkien POJ             object \n",
      " 111  Animation by            object \n",
      " 112  Color process           object \n",
      " 113  Engine(s)               object \n",
      " 114  Genre(s)                object \n",
      " 115  Actor control           object \n",
      " 116  Production company      object \n",
      " 117  Release(s)              object \n",
      " 118  Format(s)               object \n",
      " 119  Simplified              object \n",
      " 120  Characters              object \n",
      " 121  Date premiered          object \n",
      " 122  Place premiered         object \n",
      " 123  Setting                 object \n",
      " 124  Original language       object \n",
      " 125  Subject                 object \n",
      " 126  Published               object \n",
      " 127  Dewey Decimal           object \n",
      " 128  Text                    object \n",
      " 129  Illustrator             object \n",
      " 130  Original title          object \n",
      " 131  Published in English    object \n",
      " 132  French                  object \n",
      " 133  Developed by            object \n",
      " 134  Ending theme            object \n",
      " 135  No. of seasons          object \n",
      " 136  Nationality             object \n",
      " 137  Portrayed by            object \n",
      " 138  Alias                   object \n",
      " 139  Species                 object \n",
      " 140  Gender                  object \n",
      " 141  Family                  object \n",
      " 142  Alma mater              object \n",
      " 143  Camera setup            object \n",
      " 144  Novel(s)                object \n",
      " 145  Comics                  object \n",
      " 146  Film(s)                 object \n",
      " 147  Screen story by         object \n",
      " 148  Hangul                  object \n",
      " 149  Revised Romanization    object \n",
      " 150  McCune–Reischauer       object \n",
      " 151  Developer(s)            object \n",
      " 152  Publisher(s)            object \n",
      " 153  Designer(s)             object \n",
      " 154  Programmer(s)           object \n",
      " 155  Artist(s)               object \n",
      " 156  Writer(s)               object \n",
      " 157  Engine                  object \n",
      " 158  Platform(s)             object \n",
      " 159  Release                 object \n",
      " 160  Mode(s)                 object \n",
      " 161  Original work           object \n",
      " 162  Television series       object \n",
      " 163  Japanese                object \n",
      " 164  Hepburn                 object \n",
      " 165  Literally               object \n",
      " 166  Cantonese               object \n",
      " 167  Full name               object \n",
      " 168  Height                  object \n",
      " 169  Seasons                 object \n",
      " 170  Chinese                 object \n",
      " 171  Other names             object \n",
      " 172  Relatives               object \n",
      " 173  Yiddish                 object \n",
      " 174  Formerly                object \n",
      " 175  Key people              object \n",
      " 176  Total assets            object \n",
      " 177  Owner                   object \n",
      " 178  Number of employees     object \n",
      " 179  Divisions               object \n",
      " 180  Subsidiaries            object \n",
      " 181  Arabic                  object \n",
      " 182  Romanized               object \n",
      " 183  Predecessor             object \n",
      " 184  Founders                object \n",
      " 185  Area served             object \n",
      " 186  Products                object \n",
      " 187  Services                object \n",
      " 188  Russian                 object \n",
      " 189  Hebrew                  object \n",
      " 190  Revenue                 object \n",
      " 191  Operating income        object \n",
      " 192  Polish                  object \n",
      "dtypes: float64(1), object(192)\n",
      "memory usage: 10.8+ MB\n"
     ]
    }
   ],
   "source": [
    "wiki_movies_df.info(verbose=True)"
   ]
  },
  {
   "cell_type": "code",
   "execution_count": 19,
   "id": "friendly-bible",
   "metadata": {
    "ExecuteTime": {
     "end_time": "2021-04-11T19:31:53.654301Z",
     "start_time": "2021-04-11T19:31:53.469816Z"
    }
   },
   "outputs": [
    {
     "data": {
      "text/html": [
       "<div>\n",
       "<style scoped>\n",
       "    .dataframe tbody tr th:only-of-type {\n",
       "        vertical-align: middle;\n",
       "    }\n",
       "\n",
       "    .dataframe tbody tr th {\n",
       "        vertical-align: top;\n",
       "    }\n",
       "\n",
       "    .dataframe thead th {\n",
       "        text-align: right;\n",
       "    }\n",
       "</style>\n",
       "<table border=\"1\" class=\"dataframe\">\n",
       "  <thead>\n",
       "    <tr style=\"text-align: right;\">\n",
       "      <th></th>\n",
       "      <th>url</th>\n",
       "      <th>year</th>\n",
       "      <th>imdb_link</th>\n",
       "      <th>title</th>\n",
       "      <th>Directed by</th>\n",
       "      <th>Produced by</th>\n",
       "      <th>Screenplay by</th>\n",
       "      <th>Story by</th>\n",
       "      <th>Based on</th>\n",
       "      <th>Starring</th>\n",
       "      <th>...</th>\n",
       "      <th>Predecessor</th>\n",
       "      <th>Founders</th>\n",
       "      <th>Area served</th>\n",
       "      <th>Products</th>\n",
       "      <th>Services</th>\n",
       "      <th>Russian</th>\n",
       "      <th>Hebrew</th>\n",
       "      <th>Revenue</th>\n",
       "      <th>Operating income</th>\n",
       "      <th>Polish</th>\n",
       "    </tr>\n",
       "  </thead>\n",
       "  <tbody>\n",
       "    <tr>\n",
       "      <th>7306</th>\n",
       "      <td>https://en.wikipedia.org/wiki/Holmes_%26_Watson</td>\n",
       "      <td>2018.0</td>\n",
       "      <td>https://www.imdb.com/title/tt1255919/</td>\n",
       "      <td>Holmes &amp; Watson</td>\n",
       "      <td>Etan Cohen</td>\n",
       "      <td>[Will Ferrell, Adam McKay, Jimmy Miller, Clayt...</td>\n",
       "      <td>Etan Cohen</td>\n",
       "      <td>NaN</td>\n",
       "      <td>[Sherlock Holmes, and, Dr. Watson, by, Sir Art...</td>\n",
       "      <td>[Will Ferrell, John C. Reilly, Rebecca Hall, R...</td>\n",
       "      <td>...</td>\n",
       "      <td>NaN</td>\n",
       "      <td>NaN</td>\n",
       "      <td>NaN</td>\n",
       "      <td>NaN</td>\n",
       "      <td>NaN</td>\n",
       "      <td>NaN</td>\n",
       "      <td>NaN</td>\n",
       "      <td>NaN</td>\n",
       "      <td>NaN</td>\n",
       "      <td>NaN</td>\n",
       "    </tr>\n",
       "    <tr>\n",
       "      <th>7307</th>\n",
       "      <td>https://en.wikipedia.org/wiki/Vice_(2018_film)</td>\n",
       "      <td>2018.0</td>\n",
       "      <td>https://www.imdb.com/title/tt6266538/</td>\n",
       "      <td>Vice</td>\n",
       "      <td>Adam McKay</td>\n",
       "      <td>[Brad Pitt, Dede Gardner, Jeremy Kleiner, Kevi...</td>\n",
       "      <td>NaN</td>\n",
       "      <td>NaN</td>\n",
       "      <td>NaN</td>\n",
       "      <td>[Christian Bale, Amy Adams, Steve Carell, Sam ...</td>\n",
       "      <td>...</td>\n",
       "      <td>NaN</td>\n",
       "      <td>NaN</td>\n",
       "      <td>NaN</td>\n",
       "      <td>NaN</td>\n",
       "      <td>NaN</td>\n",
       "      <td>NaN</td>\n",
       "      <td>NaN</td>\n",
       "      <td>NaN</td>\n",
       "      <td>NaN</td>\n",
       "      <td>NaN</td>\n",
       "    </tr>\n",
       "    <tr>\n",
       "      <th>7308</th>\n",
       "      <td>https://en.wikipedia.org/wiki/On_the_Basis_of_Sex</td>\n",
       "      <td>2018.0</td>\n",
       "      <td>https://www.imdb.com/title/tt4669788/</td>\n",
       "      <td>On the Basis of Sex</td>\n",
       "      <td>Mimi Leder</td>\n",
       "      <td>Robert W. Cort</td>\n",
       "      <td>NaN</td>\n",
       "      <td>NaN</td>\n",
       "      <td>NaN</td>\n",
       "      <td>[Felicity Jones, Armie Hammer, Justin Theroux,...</td>\n",
       "      <td>...</td>\n",
       "      <td>NaN</td>\n",
       "      <td>NaN</td>\n",
       "      <td>NaN</td>\n",
       "      <td>NaN</td>\n",
       "      <td>NaN</td>\n",
       "      <td>NaN</td>\n",
       "      <td>NaN</td>\n",
       "      <td>NaN</td>\n",
       "      <td>NaN</td>\n",
       "      <td>NaN</td>\n",
       "    </tr>\n",
       "    <tr>\n",
       "      <th>7309</th>\n",
       "      <td>https://en.wikipedia.org/wiki/Destroyer_(2018_...</td>\n",
       "      <td>2018.0</td>\n",
       "      <td>https://www.imdb.com/title/tt7137380/</td>\n",
       "      <td>Destroyer</td>\n",
       "      <td>Karyn Kusama</td>\n",
       "      <td>[Fred Berger, Phil Hay, Matt Manfredi]</td>\n",
       "      <td>NaN</td>\n",
       "      <td>NaN</td>\n",
       "      <td>NaN</td>\n",
       "      <td>[Nicole Kidman, Sebastian Stan, Toby Kebbell, ...</td>\n",
       "      <td>...</td>\n",
       "      <td>NaN</td>\n",
       "      <td>NaN</td>\n",
       "      <td>NaN</td>\n",
       "      <td>NaN</td>\n",
       "      <td>NaN</td>\n",
       "      <td>NaN</td>\n",
       "      <td>NaN</td>\n",
       "      <td>NaN</td>\n",
       "      <td>NaN</td>\n",
       "      <td>NaN</td>\n",
       "    </tr>\n",
       "    <tr>\n",
       "      <th>7310</th>\n",
       "      <td>https://en.wikipedia.org/wiki/Black_Mirror:_Ba...</td>\n",
       "      <td>2018.0</td>\n",
       "      <td>https://www.imdb.com/title/tt9495224/</td>\n",
       "      <td>Bandersnatch</td>\n",
       "      <td>David Slade</td>\n",
       "      <td>Russell McLean</td>\n",
       "      <td>NaN</td>\n",
       "      <td>NaN</td>\n",
       "      <td>NaN</td>\n",
       "      <td>[Fionn Whitehead, Will Poulter, Craig Parkinso...</td>\n",
       "      <td>...</td>\n",
       "      <td>NaN</td>\n",
       "      <td>NaN</td>\n",
       "      <td>NaN</td>\n",
       "      <td>NaN</td>\n",
       "      <td>NaN</td>\n",
       "      <td>NaN</td>\n",
       "      <td>NaN</td>\n",
       "      <td>NaN</td>\n",
       "      <td>NaN</td>\n",
       "      <td>NaN</td>\n",
       "    </tr>\n",
       "  </tbody>\n",
       "</table>\n",
       "<p>5 rows × 193 columns</p>\n",
       "</div>"
      ],
      "text/plain": [
       "                                                    url    year  \\\n",
       "7306    https://en.wikipedia.org/wiki/Holmes_%26_Watson  2018.0   \n",
       "7307     https://en.wikipedia.org/wiki/Vice_(2018_film)  2018.0   \n",
       "7308  https://en.wikipedia.org/wiki/On_the_Basis_of_Sex  2018.0   \n",
       "7309  https://en.wikipedia.org/wiki/Destroyer_(2018_...  2018.0   \n",
       "7310  https://en.wikipedia.org/wiki/Black_Mirror:_Ba...  2018.0   \n",
       "\n",
       "                                  imdb_link                title  \\\n",
       "7306  https://www.imdb.com/title/tt1255919/      Holmes & Watson   \n",
       "7307  https://www.imdb.com/title/tt6266538/                 Vice   \n",
       "7308  https://www.imdb.com/title/tt4669788/  On the Basis of Sex   \n",
       "7309  https://www.imdb.com/title/tt7137380/            Destroyer   \n",
       "7310  https://www.imdb.com/title/tt9495224/         Bandersnatch   \n",
       "\n",
       "       Directed by                                        Produced by  \\\n",
       "7306    Etan Cohen  [Will Ferrell, Adam McKay, Jimmy Miller, Clayt...   \n",
       "7307    Adam McKay  [Brad Pitt, Dede Gardner, Jeremy Kleiner, Kevi...   \n",
       "7308    Mimi Leder                                     Robert W. Cort   \n",
       "7309  Karyn Kusama             [Fred Berger, Phil Hay, Matt Manfredi]   \n",
       "7310   David Slade                                     Russell McLean   \n",
       "\n",
       "     Screenplay by Story by  \\\n",
       "7306    Etan Cohen      NaN   \n",
       "7307           NaN      NaN   \n",
       "7308           NaN      NaN   \n",
       "7309           NaN      NaN   \n",
       "7310           NaN      NaN   \n",
       "\n",
       "                                               Based on  \\\n",
       "7306  [Sherlock Holmes, and, Dr. Watson, by, Sir Art...   \n",
       "7307                                                NaN   \n",
       "7308                                                NaN   \n",
       "7309                                                NaN   \n",
       "7310                                                NaN   \n",
       "\n",
       "                                               Starring  ... Predecessor  \\\n",
       "7306  [Will Ferrell, John C. Reilly, Rebecca Hall, R...  ...         NaN   \n",
       "7307  [Christian Bale, Amy Adams, Steve Carell, Sam ...  ...         NaN   \n",
       "7308  [Felicity Jones, Armie Hammer, Justin Theroux,...  ...         NaN   \n",
       "7309  [Nicole Kidman, Sebastian Stan, Toby Kebbell, ...  ...         NaN   \n",
       "7310  [Fionn Whitehead, Will Poulter, Craig Parkinso...  ...         NaN   \n",
       "\n",
       "     Founders Area served Products Services Russian Hebrew Revenue  \\\n",
       "7306      NaN         NaN      NaN      NaN     NaN    NaN     NaN   \n",
       "7307      NaN         NaN      NaN      NaN     NaN    NaN     NaN   \n",
       "7308      NaN         NaN      NaN      NaN     NaN    NaN     NaN   \n",
       "7309      NaN         NaN      NaN      NaN     NaN    NaN     NaN   \n",
       "7310      NaN         NaN      NaN      NaN     NaN    NaN     NaN   \n",
       "\n",
       "     Operating income Polish  \n",
       "7306              NaN    NaN  \n",
       "7307              NaN    NaN  \n",
       "7308              NaN    NaN  \n",
       "7309              NaN    NaN  \n",
       "7310              NaN    NaN  \n",
       "\n",
       "[5 rows x 193 columns]"
      ]
     },
     "execution_count": 19,
     "metadata": {},
     "output_type": "execute_result"
    }
   ],
   "source": [
    "wiki_movies_df.tail()"
   ]
  },
  {
   "cell_type": "markdown",
   "id": "macro-spoke",
   "metadata": {},
   "source": [
    "Test code for cleaning\n",
    "\n",
    "run thru one loop to remove or rename columns. Show results and then put together full code block to run all columns"
   ]
  },
  {
   "cell_type": "code",
   "execution_count": 20,
   "id": "frank-analysis",
   "metadata": {
    "ExecuteTime": {
     "end_time": "2021-04-11T19:31:53.804178Z",
     "start_time": "2021-04-11T19:31:53.655274Z"
    }
   },
   "outputs": [],
   "source": [
    "def clean_movie(movie):\n",
    "    movie = dict(movie) #create a non-destructive copy\n",
    "    alt_titles = {}\n",
    "    for key in ['Also known as','Arabic','Cantonese','Chinese','French',\n",
    "                'Hangul','Hebrew','Hepburn','Japanese','Literally',\n",
    "                'Mandarin','McCune–Reischauer','Original title','Polish',\n",
    "                'Revised Romanization','Romanized','Russian',\n",
    "                'Simplified','Traditional','Yiddish']:\n",
    "        if key in movie:\n",
    "            alt_titles[key] = movie[key]\n",
    "            movie.pop(key)\n",
    "    if len(alt_titles) > 0:\n",
    "        movie['alt_titles'] = alt_titles\n",
    "\n",
    "    return movie"
   ]
  },
  {
   "cell_type": "code",
   "execution_count": 21,
   "id": "adjustable-elephant",
   "metadata": {
    "ExecuteTime": {
     "end_time": "2021-04-11T19:31:53.950412Z",
     "start_time": "2021-04-11T19:31:53.805176Z"
    }
   },
   "outputs": [],
   "source": [
    "clean_movies = [clean_movie(movie) for movie in wiki_movies]"
   ]
  },
  {
   "cell_type": "code",
   "execution_count": 22,
   "id": "sitting-effects",
   "metadata": {
    "ExecuteTime": {
     "end_time": "2021-04-11T19:31:54.139102Z",
     "start_time": "2021-04-11T19:31:53.951139Z"
    }
   },
   "outputs": [
    {
     "data": {
      "text/plain": [
       "['Adaptation by',\n",
       " 'Animation by',\n",
       " 'Audio format',\n",
       " 'Based on',\n",
       " 'Box office',\n",
       " 'Budget',\n",
       " 'Cinematography',\n",
       " 'Color process',\n",
       " 'Composer(s)',\n",
       " 'Country',\n",
       " 'Country of origin',\n",
       " 'Created by',\n",
       " 'Directed by',\n",
       " 'Director',\n",
       " 'Distributed by',\n",
       " 'Distributor',\n",
       " 'Edited by',\n",
       " 'Editor(s)',\n",
       " 'Executive producer(s)',\n",
       " 'Followed by',\n",
       " 'Genre',\n",
       " 'Label',\n",
       " 'Language',\n",
       " 'Length',\n",
       " 'Music by',\n",
       " 'Narrated by',\n",
       " 'Original language(s)',\n",
       " 'Original network',\n",
       " 'Original release',\n",
       " 'Picture format',\n",
       " 'Preceded by',\n",
       " 'Produced by',\n",
       " 'Producer',\n",
       " 'Producer(s)',\n",
       " 'Production company(s)',\n",
       " 'Production location(s)',\n",
       " 'Productioncompanies ',\n",
       " 'Productioncompany ',\n",
       " 'Recorded',\n",
       " 'Release date',\n",
       " 'Released',\n",
       " 'Running time',\n",
       " 'Screen story by',\n",
       " 'Screenplay by',\n",
       " 'Starring',\n",
       " 'Story by',\n",
       " 'Suggested by',\n",
       " 'Theme music composer',\n",
       " 'Venue',\n",
       " 'Voices of',\n",
       " 'Written by',\n",
       " 'alt_titles',\n",
       " 'imdb_link',\n",
       " 'title',\n",
       " 'url',\n",
       " 'year']"
      ]
     },
     "execution_count": 22,
     "metadata": {},
     "output_type": "execute_result"
    }
   ],
   "source": [
    "wiki_movies_df = pd.DataFrame(clean_movies)\n",
    "sorted(wiki_movies_df.columns.tolist())"
   ]
  },
  {
   "cell_type": "markdown",
   "id": "amended-jungle",
   "metadata": {},
   "source": [
    "Code to change column headers in the function above\n",
    "\n",
    "this is a snippet...check that is should be below or "
   ]
  },
  {
   "cell_type": "code",
   "execution_count": 23,
   "id": "optical-intake",
   "metadata": {
    "ExecuteTime": {
     "end_time": "2021-04-11T19:31:54.262565Z",
     "start_time": "2021-04-11T19:31:54.144089Z"
    }
   },
   "outputs": [],
   "source": [
    "# def change_column_name('directed by', 'Director'):\n",
    "#     if old_name in movie:\n",
    "#         movie[new_name] = movie.pop(old_name)"
   ]
  },
  {
   "cell_type": "code",
   "execution_count": 24,
   "id": "literary-invite",
   "metadata": {
    "ExecuteTime": {
     "end_time": "2021-04-11T19:31:54.687424Z",
     "start_time": "2021-04-11T19:31:54.264560Z"
    }
   },
   "outputs": [],
   "source": [
    "def clean_movie(movie):\n",
    "    movie = dict(movie) #create a non-destructive copy\n",
    "    alt_titles = {}\n",
    "    # combine alternate titles into one list\n",
    "    for key in ['Also known as','Arabic','Cantonese','Chinese','French',\n",
    "                'Hangul','Hebrew','Hepburn','Japanese','Literally',\n",
    "                'Mandarin','McCune-Reischauer','Original title','Polish',\n",
    "                'Revised Romanization','Romanized','Russian',\n",
    "                'Simplified','Traditional','Yiddish']:\n",
    "        if key in movie:\n",
    "            alt_titles[key] = movie[key]\n",
    "            movie.pop(key)\n",
    "    if len(alt_titles) > 0:\n",
    "        movie['alt_titles'] = alt_titles\n",
    "\n",
    "    # merge column names\n",
    "    def change_column_name(old_name, new_name):\n",
    "        if old_name in movie:\n",
    "            movie[new_name] = movie.pop(old_name)\n",
    "    change_column_name('Adaptation by', 'Writer(s)')\n",
    "    change_column_name('Country of origin', 'Country')\n",
    "    change_column_name('Directed by', 'Director')\n",
    "    change_column_name('Distributed by', 'Distributor')\n",
    "    change_column_name('Edited by', 'Editor(s)')\n",
    "    change_column_name('Length', 'Running time')\n",
    "    change_column_name('Original release', 'Release date')\n",
    "    change_column_name('Music by', 'Composer(s)')\n",
    "    change_column_name('Produced by', 'Producer(s)')\n",
    "    change_column_name('Producer', 'Producer(s)')\n",
    "    change_column_name('Productioncompanies ', 'Production company(s)')\n",
    "    change_column_name('Productioncompany ', 'Production company(s)')\n",
    "    change_column_name('Released', 'Release Date')\n",
    "    change_column_name('Release Date', 'Release date')\n",
    "    change_column_name('Screen story by', 'Writer(s)')\n",
    "    change_column_name('Screenplay by', 'Writer(s)')\n",
    "    change_column_name('Story by', 'Writer(s)')\n",
    "    change_column_name('Theme music composer', 'Composer(s)')\n",
    "    change_column_name('Written by', 'Writer(s)')\n",
    "\n",
    "    return movie"
   ]
  },
  {
   "cell_type": "code",
   "execution_count": 25,
   "id": "overall-atlas",
   "metadata": {
    "ExecuteTime": {
     "end_time": "2021-04-11T19:31:54.927338Z",
     "start_time": "2021-04-11T19:31:54.689248Z"
    }
   },
   "outputs": [
    {
     "data": {
      "text/plain": [
       "['Animation by',\n",
       " 'Audio format',\n",
       " 'Based on',\n",
       " 'Box office',\n",
       " 'Budget',\n",
       " 'Cinematography',\n",
       " 'Color process',\n",
       " 'Composer(s)',\n",
       " 'Country',\n",
       " 'Created by',\n",
       " 'Director',\n",
       " 'Distributor',\n",
       " 'Editor(s)',\n",
       " 'Executive producer(s)',\n",
       " 'Followed by',\n",
       " 'Genre',\n",
       " 'Label',\n",
       " 'Language',\n",
       " 'McCune–Reischauer',\n",
       " 'Narrated by',\n",
       " 'Original language(s)',\n",
       " 'Original network',\n",
       " 'Picture format',\n",
       " 'Preceded by',\n",
       " 'Producer(s)',\n",
       " 'Production company(s)',\n",
       " 'Production location(s)',\n",
       " 'Recorded',\n",
       " 'Release date',\n",
       " 'Running time',\n",
       " 'Starring',\n",
       " 'Suggested by',\n",
       " 'Venue',\n",
       " 'Voices of',\n",
       " 'Writer(s)',\n",
       " 'alt_titles',\n",
       " 'imdb_link',\n",
       " 'title',\n",
       " 'url',\n",
       " 'year']"
      ]
     },
     "execution_count": 25,
     "metadata": {},
     "output_type": "execute_result"
    }
   ],
   "source": [
    "clean_movies = [clean_movie(movie) for movie in wiki_movies]\n",
    "wiki_movies_df = pd.DataFrame(clean_movies)\n",
    "sorted(wiki_movies_df.columns.tolist())"
   ]
  },
  {
   "cell_type": "markdown",
   "id": "engaging-worth",
   "metadata": {},
   "source": [
    "output goes to a dataframe using a REGEX. will drop dups in the DF."
   ]
  },
  {
   "cell_type": "code",
   "execution_count": 26,
   "id": "premier-flash",
   "metadata": {
    "ExecuteTime": {
     "end_time": "2021-04-11T19:31:55.035873Z",
     "start_time": "2021-04-11T19:31:54.928336Z"
    }
   },
   "outputs": [
    {
     "name": "stdout",
     "output_type": "stream",
     "text": [
      "7076\n",
      "7033\n"
     ]
    },
    {
     "data": {
      "text/html": [
       "<div>\n",
       "<style scoped>\n",
       "    .dataframe tbody tr th:only-of-type {\n",
       "        vertical-align: middle;\n",
       "    }\n",
       "\n",
       "    .dataframe tbody tr th {\n",
       "        vertical-align: top;\n",
       "    }\n",
       "\n",
       "    .dataframe thead th {\n",
       "        text-align: right;\n",
       "    }\n",
       "</style>\n",
       "<table border=\"1\" class=\"dataframe\">\n",
       "  <thead>\n",
       "    <tr style=\"text-align: right;\">\n",
       "      <th></th>\n",
       "      <th>url</th>\n",
       "      <th>year</th>\n",
       "      <th>imdb_link</th>\n",
       "      <th>title</th>\n",
       "      <th>Based on</th>\n",
       "      <th>Starring</th>\n",
       "      <th>Narrated by</th>\n",
       "      <th>Cinematography</th>\n",
       "      <th>Release date</th>\n",
       "      <th>Running time</th>\n",
       "      <th>...</th>\n",
       "      <th>Preceded by</th>\n",
       "      <th>Suggested by</th>\n",
       "      <th>alt_titles</th>\n",
       "      <th>Recorded</th>\n",
       "      <th>Venue</th>\n",
       "      <th>Label</th>\n",
       "      <th>Animation by</th>\n",
       "      <th>Color process</th>\n",
       "      <th>McCune–Reischauer</th>\n",
       "      <th>imdb_id</th>\n",
       "    </tr>\n",
       "  </thead>\n",
       "  <tbody>\n",
       "    <tr>\n",
       "      <th>0</th>\n",
       "      <td>https://en.wikipedia.org/wiki/The_Adventures_o...</td>\n",
       "      <td>1990</td>\n",
       "      <td>https://www.imdb.com/title/tt0098987/</td>\n",
       "      <td>The Adventures of Ford Fairlane</td>\n",
       "      <td>[Characters, by Rex Weiner]</td>\n",
       "      <td>[Andrew Dice Clay, Wayne Newton, Priscilla Pre...</td>\n",
       "      <td>Andrew \"Dice\" Clay</td>\n",
       "      <td>Oliver Wood</td>\n",
       "      <td>[July 11, 1990, (, 1990-07-11, )]</td>\n",
       "      <td>102 minutes</td>\n",
       "      <td>...</td>\n",
       "      <td>NaN</td>\n",
       "      <td>NaN</td>\n",
       "      <td>NaN</td>\n",
       "      <td>NaN</td>\n",
       "      <td>NaN</td>\n",
       "      <td>NaN</td>\n",
       "      <td>NaN</td>\n",
       "      <td>NaN</td>\n",
       "      <td>NaN</td>\n",
       "      <td>tt0098987</td>\n",
       "    </tr>\n",
       "    <tr>\n",
       "      <th>1</th>\n",
       "      <td>https://en.wikipedia.org/wiki/After_Dark,_My_S...</td>\n",
       "      <td>1990</td>\n",
       "      <td>https://www.imdb.com/title/tt0098994/</td>\n",
       "      <td>After Dark, My Sweet</td>\n",
       "      <td>[the novel, After Dark, My Sweet, by, Jim Thom...</td>\n",
       "      <td>[Jason Patric, Rachel Ward, Bruce Dern, George...</td>\n",
       "      <td>NaN</td>\n",
       "      <td>Mark Plummer</td>\n",
       "      <td>[May 17, 1990, (, 1990-05-17, ), (Cannes Film ...</td>\n",
       "      <td>114 minutes</td>\n",
       "      <td>...</td>\n",
       "      <td>NaN</td>\n",
       "      <td>NaN</td>\n",
       "      <td>NaN</td>\n",
       "      <td>NaN</td>\n",
       "      <td>NaN</td>\n",
       "      <td>NaN</td>\n",
       "      <td>NaN</td>\n",
       "      <td>NaN</td>\n",
       "      <td>NaN</td>\n",
       "      <td>tt0098994</td>\n",
       "    </tr>\n",
       "    <tr>\n",
       "      <th>2</th>\n",
       "      <td>https://en.wikipedia.org/wiki/Air_America_(film)</td>\n",
       "      <td>1990</td>\n",
       "      <td>https://www.imdb.com/title/tt0099005/</td>\n",
       "      <td>Air America</td>\n",
       "      <td>[Air America, by, Christopher Robbins]</td>\n",
       "      <td>[Mel Gibson, Robert Downey Jr., Nancy Travis, ...</td>\n",
       "      <td>NaN</td>\n",
       "      <td>Roger Deakins</td>\n",
       "      <td>[August 10, 1990, (, 1990-08-10, )]</td>\n",
       "      <td>113 minutes</td>\n",
       "      <td>...</td>\n",
       "      <td>NaN</td>\n",
       "      <td>NaN</td>\n",
       "      <td>NaN</td>\n",
       "      <td>NaN</td>\n",
       "      <td>NaN</td>\n",
       "      <td>NaN</td>\n",
       "      <td>NaN</td>\n",
       "      <td>NaN</td>\n",
       "      <td>NaN</td>\n",
       "      <td>tt0099005</td>\n",
       "    </tr>\n",
       "    <tr>\n",
       "      <th>3</th>\n",
       "      <td>https://en.wikipedia.org/wiki/Alice_(1990_film)</td>\n",
       "      <td>1990</td>\n",
       "      <td>https://www.imdb.com/title/tt0099012/</td>\n",
       "      <td>Alice</td>\n",
       "      <td>NaN</td>\n",
       "      <td>[Alec Baldwin, Blythe Danner, Judy Davis, Mia ...</td>\n",
       "      <td>NaN</td>\n",
       "      <td>Carlo Di Palma</td>\n",
       "      <td>[December 25, 1990, (, 1990-12-25, )]</td>\n",
       "      <td>106 minutes</td>\n",
       "      <td>...</td>\n",
       "      <td>NaN</td>\n",
       "      <td>NaN</td>\n",
       "      <td>NaN</td>\n",
       "      <td>NaN</td>\n",
       "      <td>NaN</td>\n",
       "      <td>NaN</td>\n",
       "      <td>NaN</td>\n",
       "      <td>NaN</td>\n",
       "      <td>NaN</td>\n",
       "      <td>tt0099012</td>\n",
       "    </tr>\n",
       "    <tr>\n",
       "      <th>4</th>\n",
       "      <td>https://en.wikipedia.org/wiki/Almost_an_Angel</td>\n",
       "      <td>1990</td>\n",
       "      <td>https://www.imdb.com/title/tt0099018/</td>\n",
       "      <td>Almost an Angel</td>\n",
       "      <td>NaN</td>\n",
       "      <td>[Paul Hogan, Elias Koteas, Linda Kozlowski]</td>\n",
       "      <td>NaN</td>\n",
       "      <td>Russell Boyd</td>\n",
       "      <td>December 19, 1990</td>\n",
       "      <td>95 minutes</td>\n",
       "      <td>...</td>\n",
       "      <td>NaN</td>\n",
       "      <td>NaN</td>\n",
       "      <td>NaN</td>\n",
       "      <td>NaN</td>\n",
       "      <td>NaN</td>\n",
       "      <td>NaN</td>\n",
       "      <td>NaN</td>\n",
       "      <td>NaN</td>\n",
       "      <td>NaN</td>\n",
       "      <td>tt0099018</td>\n",
       "    </tr>\n",
       "  </tbody>\n",
       "</table>\n",
       "<p>5 rows × 41 columns</p>\n",
       "</div>"
      ],
      "text/plain": [
       "                                                 url  year  \\\n",
       "0  https://en.wikipedia.org/wiki/The_Adventures_o...  1990   \n",
       "1  https://en.wikipedia.org/wiki/After_Dark,_My_S...  1990   \n",
       "2   https://en.wikipedia.org/wiki/Air_America_(film)  1990   \n",
       "3    https://en.wikipedia.org/wiki/Alice_(1990_film)  1990   \n",
       "4      https://en.wikipedia.org/wiki/Almost_an_Angel  1990   \n",
       "\n",
       "                               imdb_link                            title  \\\n",
       "0  https://www.imdb.com/title/tt0098987/  The Adventures of Ford Fairlane   \n",
       "1  https://www.imdb.com/title/tt0098994/             After Dark, My Sweet   \n",
       "2  https://www.imdb.com/title/tt0099005/                      Air America   \n",
       "3  https://www.imdb.com/title/tt0099012/                            Alice   \n",
       "4  https://www.imdb.com/title/tt0099018/                  Almost an Angel   \n",
       "\n",
       "                                            Based on  \\\n",
       "0                        [Characters, by Rex Weiner]   \n",
       "1  [the novel, After Dark, My Sweet, by, Jim Thom...   \n",
       "2             [Air America, by, Christopher Robbins]   \n",
       "3                                                NaN   \n",
       "4                                                NaN   \n",
       "\n",
       "                                            Starring         Narrated by  \\\n",
       "0  [Andrew Dice Clay, Wayne Newton, Priscilla Pre...  Andrew \"Dice\" Clay   \n",
       "1  [Jason Patric, Rachel Ward, Bruce Dern, George...                 NaN   \n",
       "2  [Mel Gibson, Robert Downey Jr., Nancy Travis, ...                 NaN   \n",
       "3  [Alec Baldwin, Blythe Danner, Judy Davis, Mia ...                 NaN   \n",
       "4        [Paul Hogan, Elias Koteas, Linda Kozlowski]                 NaN   \n",
       "\n",
       "   Cinematography                                       Release date  \\\n",
       "0     Oliver Wood                  [July 11, 1990, (, 1990-07-11, )]   \n",
       "1    Mark Plummer  [May 17, 1990, (, 1990-05-17, ), (Cannes Film ...   \n",
       "2   Roger Deakins                [August 10, 1990, (, 1990-08-10, )]   \n",
       "3  Carlo Di Palma              [December 25, 1990, (, 1990-12-25, )]   \n",
       "4    Russell Boyd                                  December 19, 1990   \n",
       "\n",
       "  Running time  ... Preceded by Suggested by alt_titles Recorded Venue Label  \\\n",
       "0  102 minutes  ...         NaN          NaN        NaN      NaN   NaN   NaN   \n",
       "1  114 minutes  ...         NaN          NaN        NaN      NaN   NaN   NaN   \n",
       "2  113 minutes  ...         NaN          NaN        NaN      NaN   NaN   NaN   \n",
       "3  106 minutes  ...         NaN          NaN        NaN      NaN   NaN   NaN   \n",
       "4   95 minutes  ...         NaN          NaN        NaN      NaN   NaN   NaN   \n",
       "\n",
       "  Animation by Color process McCune–Reischauer    imdb_id  \n",
       "0          NaN           NaN               NaN  tt0098987  \n",
       "1          NaN           NaN               NaN  tt0098994  \n",
       "2          NaN           NaN               NaN  tt0099005  \n",
       "3          NaN           NaN               NaN  tt0099012  \n",
       "4          NaN           NaN               NaN  tt0099018  \n",
       "\n",
       "[5 rows x 41 columns]"
      ]
     },
     "execution_count": 26,
     "metadata": {},
     "output_type": "execute_result"
    }
   ],
   "source": [
    "wiki_movies_df['imdb_id'] = wiki_movies_df['imdb_link'].str.extract(r'(tt\\d{7})')\n",
    "print(len(wiki_movies_df))\n",
    "wiki_movies_df.drop_duplicates(subset='imdb_id', inplace=True)\n",
    "print(len(wiki_movies_df))\n",
    "wiki_movies_df.head()"
   ]
  },
  {
   "cell_type": "markdown",
   "id": "premier-replacement",
   "metadata": {},
   "source": [
    "Get rid of columns with null values....\n",
    "\n",
    "get a list with null values"
   ]
  },
  {
   "cell_type": "code",
   "execution_count": 27,
   "id": "gentle-geography",
   "metadata": {
    "ExecuteTime": {
     "end_time": "2021-04-11T19:31:55.175622Z",
     "start_time": "2021-04-11T19:31:55.036870Z"
    }
   },
   "outputs": [
    {
     "data": {
      "text/plain": [
       "[['url', 0],\n",
       " ['year', 0],\n",
       " ['imdb_link', 0],\n",
       " ['title', 1],\n",
       " ['Based on', 4852],\n",
       " ['Starring', 184],\n",
       " ['Narrated by', 6752],\n",
       " ['Cinematography', 691],\n",
       " ['Release date', 32],\n",
       " ['Running time', 139],\n",
       " ['Country', 236],\n",
       " ['Language', 244],\n",
       " ['Budget', 2295],\n",
       " ['Box office', 1548],\n",
       " ['Director', 0],\n",
       " ['Distributor', 357],\n",
       " ['Editor(s)', 548],\n",
       " ['Composer(s)', 518],\n",
       " ['Producer(s)', 202],\n",
       " ['Production company(s)', 1678],\n",
       " ['Writer(s)', 199],\n",
       " ['Genre', 6923],\n",
       " ['Original language(s)', 6875],\n",
       " ['Original network', 6908],\n",
       " ['Executive producer(s)', 6936],\n",
       " ['Production location(s)', 6986],\n",
       " ['Picture format', 6969],\n",
       " ['Audio format', 6972],\n",
       " ['Voices of', 7031],\n",
       " ['Followed by', 7024],\n",
       " ['Created by', 7023],\n",
       " ['Preceded by', 7023],\n",
       " ['Suggested by', 7032],\n",
       " ['alt_titles', 7012],\n",
       " ['Recorded', 7031],\n",
       " ['Venue', 7032],\n",
       " ['Label', 7031],\n",
       " ['Animation by', 7031],\n",
       " ['Color process', 7032],\n",
       " ['McCune–Reischauer', 7031],\n",
       " ['imdb_id', 0]]"
      ]
     },
     "execution_count": 27,
     "metadata": {},
     "output_type": "execute_result"
    }
   ],
   "source": [
    "[[column,wiki_movies_df[column].isnull().sum()] for column in wiki_movies_df.columns]"
   ]
  },
  {
   "cell_type": "code",
   "execution_count": 28,
   "id": "curious-buddy",
   "metadata": {
    "ExecuteTime": {
     "end_time": "2021-04-11T19:31:55.346126Z",
     "start_time": "2021-04-11T19:31:55.176620Z"
    }
   },
   "outputs": [
    {
     "data": {
      "text/plain": [
       "['url',\n",
       " 'year',\n",
       " 'imdb_link',\n",
       " 'title',\n",
       " 'Based on',\n",
       " 'Starring',\n",
       " 'Cinematography',\n",
       " 'Release date',\n",
       " 'Running time',\n",
       " 'Country',\n",
       " 'Language',\n",
       " 'Budget',\n",
       " 'Box office',\n",
       " 'Director',\n",
       " 'Distributor',\n",
       " 'Editor(s)',\n",
       " 'Composer(s)',\n",
       " 'Producer(s)',\n",
       " 'Production company(s)',\n",
       " 'Writer(s)',\n",
       " 'imdb_id']"
      ]
     },
     "execution_count": 28,
     "metadata": {},
     "output_type": "execute_result"
    }
   ],
   "source": [
    "[column for column in wiki_movies_df.columns if wiki_movies_df[column].isnull().sum() < len(wiki_movies_df) * 0.9]"
   ]
  },
  {
   "cell_type": "code",
   "execution_count": 29,
   "id": "greenhouse-services",
   "metadata": {
    "ExecuteTime": {
     "end_time": "2021-04-11T19:31:55.602302Z",
     "start_time": "2021-04-11T19:31:55.347123Z"
    }
   },
   "outputs": [],
   "source": [
    "wiki_columns_to_keep = [column for column in wiki_movies_df.columns if wiki_movies_df[column].isnull().sum() < len(wiki_movies_df) * 0.9]\n",
    "wiki_movies_df = wiki_movies_df[wiki_columns_to_keep]"
   ]
  },
  {
   "cell_type": "markdown",
   "id": "cardiovascular-schema",
   "metadata": {},
   "source": [
    "8.3.8 Data Parsing\n",
    "\n",
    "Data needs to be in the right type in each column. change the data to reflect the proper type."
   ]
  },
  {
   "cell_type": "code",
   "execution_count": 30,
   "id": "controlling-estonia",
   "metadata": {
    "ExecuteTime": {
     "end_time": "2021-04-11T19:31:55.866868Z",
     "start_time": "2021-04-11T19:31:55.602898Z"
    }
   },
   "outputs": [],
   "source": [
    "box_office = wiki_movies_df['Box office'].dropna()"
   ]
  },
  {
   "cell_type": "code",
   "execution_count": 31,
   "id": "eastern-correction",
   "metadata": {
    "ExecuteTime": {
     "end_time": "2021-04-11T19:31:56.007080Z",
     "start_time": "2021-04-11T19:31:55.867859Z"
    }
   },
   "outputs": [],
   "source": [
    "# run thru the following issues\n",
    "#looking for million or billion format\n",
    "form_one = r'\\$\\d+\\.?\\d*\\s*[mb]illion'"
   ]
  },
  {
   "cell_type": "code",
   "execution_count": 32,
   "id": "variable-monroe",
   "metadata": {
    "ExecuteTime": {
     "end_time": "2021-04-11T19:31:56.140595Z",
     "start_time": "2021-04-11T19:31:56.008110Z"
    }
   },
   "outputs": [
    {
     "data": {
      "text/plain": [
       "3826"
      ]
     },
     "execution_count": 32,
     "metadata": {},
     "output_type": "execute_result"
    }
   ],
   "source": [
    "# count what we get.\n",
    "box_office.str.contains(form_one, flags=re.IGNORECASE).sum()"
   ]
  },
  {
   "cell_type": "code",
   "execution_count": 33,
   "id": "serious-ottawa",
   "metadata": {
    "ExecuteTime": {
     "end_time": "2021-04-11T19:31:56.279007Z",
     "start_time": "2021-04-11T19:31:56.141557Z"
    }
   },
   "outputs": [
    {
     "data": {
      "text/plain": [
       "1490"
      ]
     },
     "execution_count": 33,
     "metadata": {},
     "output_type": "execute_result"
    }
   ],
   "source": [
    "#looking for format = $123,456,789.\n",
    "\n",
    "form_two = r'\\$\\d{1,3}(?:,\\d{3})+'\n",
    "box_office.str.contains(form_two, flags=re.IGNORECASE).sum()"
   ]
  },
  {
   "cell_type": "code",
   "execution_count": 34,
   "id": "premier-somewhere",
   "metadata": {
    "ExecuteTime": {
     "end_time": "2021-04-11T19:31:56.423799Z",
     "start_time": "2021-04-11T19:31:56.279972Z"
    }
   },
   "outputs": [],
   "source": [
    "## this code throws a ValueError.   Can't be used.\n",
    "#matches_form_one = box_office.str.contains(form_one, flags=re.IGNORECASE)\n",
    "# matches_form_two = box_office.str.contains(form_two, flags=re.IGNORECASE)"
   ]
  },
  {
   "cell_type": "code",
   "execution_count": 35,
   "id": "handmade-sustainability",
   "metadata": {
    "ExecuteTime": {
     "end_time": "2021-04-11T19:31:56.572886Z",
     "start_time": "2021-04-11T19:31:56.425363Z"
    }
   },
   "outputs": [],
   "source": [
    "## This code doesn't run\n",
    "#box_office[~matches_form_one & ~matches_form_two]"
   ]
  },
  {
   "cell_type": "code",
   "execution_count": 36,
   "id": "wooden-coverage",
   "metadata": {
    "ExecuteTime": {
     "end_time": "2021-04-11T19:31:56.848545Z",
     "start_time": "2021-04-11T19:31:56.573665Z"
    }
   },
   "outputs": [],
   "source": [
    "form_one = r'\\$\\s*\\d+\\.?\\d*\\s*[mb]illion'\n",
    "form_two = r'\\$\\s*\\d{1,3}(?:,\\d{3})+'\n",
    "form_two = r'\\$\\s*\\d{1,3}(?:[,\\.]\\d{3})+'\n",
    "form_two = r'\\$\\s*\\d{1,3}(?:[,\\.]\\d{3})+(?!\\s[mb]illion)'\n",
    "box_office = box_office.str.replace(r'\\$.*[-—–](?![a-z])', '$', regex=True)\n",
    "form_one = r'\\$\\s*\\d+\\.?\\d*\\s*[mb]illi?on'"
   ]
  },
  {
   "cell_type": "code",
   "execution_count": 37,
   "id": "bottom-football",
   "metadata": {
    "ExecuteTime": {
     "end_time": "2021-04-11T19:31:57.101662Z",
     "start_time": "2021-04-11T19:31:56.849272Z"
    }
   },
   "outputs": [
    {
     "data": {
      "text/html": [
       "<div>\n",
       "<style scoped>\n",
       "    .dataframe tbody tr th:only-of-type {\n",
       "        vertical-align: middle;\n",
       "    }\n",
       "\n",
       "    .dataframe tbody tr th {\n",
       "        vertical-align: top;\n",
       "    }\n",
       "\n",
       "    .dataframe thead th {\n",
       "        text-align: right;\n",
       "    }\n",
       "</style>\n",
       "<table border=\"1\" class=\"dataframe\">\n",
       "  <thead>\n",
       "    <tr style=\"text-align: right;\">\n",
       "      <th></th>\n",
       "      <th>0</th>\n",
       "    </tr>\n",
       "  </thead>\n",
       "  <tbody>\n",
       "    <tr>\n",
       "      <th>0</th>\n",
       "      <td>$21.4 million</td>\n",
       "    </tr>\n",
       "    <tr>\n",
       "      <th>1</th>\n",
       "      <td>$2.7 million</td>\n",
       "    </tr>\n",
       "    <tr>\n",
       "      <th>2</th>\n",
       "      <td>$57,718,089</td>\n",
       "    </tr>\n",
       "    <tr>\n",
       "      <th>3</th>\n",
       "      <td>$7,331,647</td>\n",
       "    </tr>\n",
       "    <tr>\n",
       "      <th>4</th>\n",
       "      <td>$6,939,946</td>\n",
       "    </tr>\n",
       "    <tr>\n",
       "      <th>...</th>\n",
       "      <td>...</td>\n",
       "    </tr>\n",
       "    <tr>\n",
       "      <th>7070</th>\n",
       "      <td>$19.4 million</td>\n",
       "    </tr>\n",
       "    <tr>\n",
       "      <th>7071</th>\n",
       "      <td>$41.9 million</td>\n",
       "    </tr>\n",
       "    <tr>\n",
       "      <th>7072</th>\n",
       "      <td>$76.1 million</td>\n",
       "    </tr>\n",
       "    <tr>\n",
       "      <th>7073</th>\n",
       "      <td>$38.4 million</td>\n",
       "    </tr>\n",
       "    <tr>\n",
       "      <th>7074</th>\n",
       "      <td>$5.5 million</td>\n",
       "    </tr>\n",
       "  </tbody>\n",
       "</table>\n",
       "<p>5485 rows × 1 columns</p>\n",
       "</div>"
      ],
      "text/plain": [
       "                  0\n",
       "0     $21.4 million\n",
       "1      $2.7 million\n",
       "2       $57,718,089\n",
       "3        $7,331,647\n",
       "4        $6,939,946\n",
       "...             ...\n",
       "7070  $19.4 million\n",
       "7071  $41.9 million\n",
       "7072  $76.1 million\n",
       "7073  $38.4 million\n",
       "7074   $5.5 million\n",
       "\n",
       "[5485 rows x 1 columns]"
      ]
     },
     "execution_count": 37,
     "metadata": {},
     "output_type": "execute_result"
    }
   ],
   "source": [
    "box_office.str.extract(f'({form_one}|{form_two})')"
   ]
  },
  {
   "cell_type": "code",
   "execution_count": 38,
   "id": "coral-cigarette",
   "metadata": {
    "ExecuteTime": {
     "end_time": "2021-04-11T19:31:57.332304Z",
     "start_time": "2021-04-11T19:31:57.102624Z"
    }
   },
   "outputs": [],
   "source": [
    "#\n",
    "def parse_dollars(s):\n",
    "    # if s is not a string, return NaN\n",
    "    if type(s) !=str:\n",
    "        return np.nan\n",
    "    \n",
    "    # if input is of the form $###.# million\n",
    "    if re.match(r'\\$\\s*\\d+\\.?\\s*milli?on',s, flags=re.IGNORECASE):\n",
    "        \n",
    "        # remove dollar sign and \" million\"\n",
    "        s = re.sub('\\$|\\s|[a-zA-Z]','', s)\n",
    "        \n",
    "        # convert to float and multiply by a million\n",
    "        value = float(s) * 10**6\n",
    "        \n",
    "        # return value\n",
    "        return value\n",
    "    \n",
    "    # if input is of the form $###.# billion\n",
    "    elif re.match(r'\\$\\s*\\d+\\.?\\s*billi?on',s, flags=re.IGNORECASE):\n",
    "        \n",
    "        # remove dollar sign and \" billion\"\n",
    "        s = re.sub('\\$|\\s|[a-zA-Z]','', s)\n",
    "        \n",
    "        # convert to float and multiply by a billion\n",
    "        value = float(s) * 10**9\n",
    "        \n",
    "        # return value\n",
    "        return value\n",
    "    \n",
    "    # if input is of the form $###,###,###\n",
    "    elif re.match(r'\\$\\s*\\d{1,3}(?:[,\\.]\\d{3})+(?!\\s[mb]illion)', s, flags=re.IGNORECASE):\n",
    "     \n",
    "                  # remove dollar sign and commas\n",
    "        s = re.sub('\\$|,','', s)\n",
    "                  \n",
    "        # convert to float\n",
    "        value= float(s)\n",
    "                  \n",
    "        # return value\n",
    "        return value\n",
    "                  \n",
    "    # otherwise, return NaN\n",
    "    else:\n",
    "        return np.nan\n",
    "                  "
   ]
  },
  {
   "cell_type": "code",
   "execution_count": 39,
   "id": "selected-samoa",
   "metadata": {
    "ExecuteTime": {
     "end_time": "2021-04-11T19:31:57.526527Z",
     "start_time": "2021-04-11T19:31:57.333264Z"
    }
   },
   "outputs": [
    {
     "data": {
      "text/plain": [
       "0              NaN\n",
       "1              NaN\n",
       "2       57718089.0\n",
       "3        7331647.0\n",
       "4        6939946.0\n",
       "           ...    \n",
       "7071           NaN\n",
       "7072           NaN\n",
       "7073           NaN\n",
       "7074           NaN\n",
       "7075           NaN\n",
       "Name: box_office, Length: 7033, dtype: float64"
      ]
     },
     "execution_count": 39,
     "metadata": {},
     "output_type": "execute_result"
    }
   ],
   "source": [
    "wiki_movies_df['box_office'] = box_office.str.extract(f'({form_one}|{form_two})', flags=re.IGNORECASE)[0].apply(parse_dollars)\n",
    "\n",
    "wiki_movies_df['box_office']\n"
   ]
  },
  {
   "cell_type": "code",
   "execution_count": 40,
   "id": "social-sensitivity",
   "metadata": {
    "ExecuteTime": {
     "end_time": "2021-04-11T19:31:57.844230Z",
     "start_time": "2021-04-11T19:31:57.527492Z"
    }
   },
   "outputs": [],
   "source": [
    "wiki_movies_df.drop('Box office', axis=1, inplace=True)"
   ]
  },
  {
   "cell_type": "markdown",
   "id": "involved-participant",
   "metadata": {},
   "source": [
    "parse the budget"
   ]
  },
  {
   "cell_type": "code",
   "execution_count": 41,
   "id": "critical-consultancy",
   "metadata": {
    "ExecuteTime": {
     "end_time": "2021-04-11T19:31:58.142249Z",
     "start_time": "2021-04-11T19:31:57.845214Z"
    }
   },
   "outputs": [],
   "source": [
    "budget = wiki_movies_df['Budget'].dropna()"
   ]
  },
  {
   "cell_type": "code",
   "execution_count": 42,
   "id": "precise-jonathan",
   "metadata": {
    "ExecuteTime": {
     "end_time": "2021-04-11T19:31:58.276745Z",
     "start_time": "2021-04-11T19:31:58.144242Z"
    }
   },
   "outputs": [],
   "source": [
    "budget = budget.map(lambda x: ' '.join(x) if type(x) == list else x)"
   ]
  },
  {
   "cell_type": "code",
   "execution_count": 43,
   "id": "fuzzy-seller",
   "metadata": {
    "ExecuteTime": {
     "end_time": "2021-04-11T19:31:58.436588Z",
     "start_time": "2021-04-11T19:31:58.277739Z"
    }
   },
   "outputs": [],
   "source": [
    "budget = budget.str.replace(r'\\$.*[-—–](?![a-z])', '$', regex=True)"
   ]
  },
  {
   "cell_type": "code",
   "execution_count": 44,
   "id": "electrical-postcard",
   "metadata": {
    "ExecuteTime": {
     "end_time": "2021-04-11T19:31:58.659561Z",
     "start_time": "2021-04-11T19:31:58.437576Z"
    }
   },
   "outputs": [
    {
     "data": {
      "text/plain": [
       "136                         Unknown\n",
       "204     60 million Norwegian Kroner\n",
       "478                         Unknown\n",
       "973             $34 [3] [4] million\n",
       "1126               $120 [4] million\n",
       "1226                        Unknown\n",
       "1278                            HBO\n",
       "1374                     £6,000,000\n",
       "1397                     13 million\n",
       "1480                   £2.8 million\n",
       "1734                   CAD2,000,000\n",
       "1913     PHP 85 million (estimated)\n",
       "1948                    102,888,900\n",
       "1953                   3,500,000 DM\n",
       "1973                     ₤2,300,874\n",
       "2281                     $14 milion\n",
       "2451                     ₤6,350,000\n",
       "3144                   € 40 million\n",
       "3360               $150 [6] million\n",
       "3418                        $218.32\n",
       "3802                   £4.2 million\n",
       "3906                            N/A\n",
       "3959                    760,000 USD\n",
       "4470                       19 crore\n",
       "4641                    £17 million\n",
       "5034              $$200 [4] million\n",
       "5055           $155 [2] [3] million\n",
       "5419                $40 [4] million\n",
       "5424                            N/A\n",
       "5447                     £4 million\n",
       "5671                    €14 million\n",
       "5687                   $ dead link]\n",
       "6385               £ 12 million [3]\n",
       "6593                     £3 million\n",
       "6821                  £12.9 million\n",
       "6843                      3.5 crore\n",
       "6895                        919,000\n",
       "7070                   €4.3 million\n",
       "Name: Budget, dtype: object"
      ]
     },
     "execution_count": 44,
     "metadata": {},
     "output_type": "execute_result"
    }
   ],
   "source": [
    "matches_form_one = budget.str.contains(form_one, flags=re.IGNORECASE)\n",
    "matches_form_two = budget.str.contains(form_two, flags=re.IGNORECASE)\n",
    "budget[~matches_form_one & ~matches_form_two]"
   ]
  },
  {
   "cell_type": "markdown",
   "id": "expired-apache",
   "metadata": {},
   "source": [
    "Remove the citation references"
   ]
  },
  {
   "cell_type": "code",
   "execution_count": 45,
   "id": "hazardous-relations",
   "metadata": {
    "ExecuteTime": {
     "end_time": "2021-04-11T19:31:58.804946Z",
     "start_time": "2021-04-11T19:31:58.660561Z"
    }
   },
   "outputs": [
    {
     "name": "stderr",
     "output_type": "stream",
     "text": [
      "C:\\Users\\phili\\anaconda3\\envs\\PythonData\\lib\\site-packages\\ipykernel_launcher.py:1: FutureWarning: The default value of regex will change from True to False in a future version.\n",
      "  \"\"\"Entry point for launching an IPython kernel.\n"
     ]
    },
    {
     "data": {
      "text/plain": [
       "136                         Unknown\n",
       "204     60 million Norwegian Kroner\n",
       "478                         Unknown\n",
       "973                     $34 million\n",
       "1126                   $120 million\n",
       "1226                        Unknown\n",
       "1278                            HBO\n",
       "1374                     £6,000,000\n",
       "1397                     13 million\n",
       "1480                   £2.8 million\n",
       "1734                   CAD2,000,000\n",
       "1913     PHP 85 million (estimated)\n",
       "1948                    102,888,900\n",
       "1953                   3,500,000 DM\n",
       "1973                     ₤2,300,874\n",
       "2281                     $14 milion\n",
       "2451                     ₤6,350,000\n",
       "3144                   € 40 million\n",
       "3360                   $150 million\n",
       "3418                        $218.32\n",
       "3802                   £4.2 million\n",
       "3906                            N/A\n",
       "3959                    760,000 USD\n",
       "4470                       19 crore\n",
       "4641                    £17 million\n",
       "5034                  $$200 million\n",
       "5055                   $155 million\n",
       "5419                    $40 million\n",
       "5424                            N/A\n",
       "5447                     £4 million\n",
       "5671                    €14 million\n",
       "5687                   $ dead link]\n",
       "6385                  £ 12 million \n",
       "6593                     £3 million\n",
       "6821                  £12.9 million\n",
       "6843                      3.5 crore\n",
       "6895                        919,000\n",
       "7070                   €4.3 million\n",
       "Name: Budget, dtype: object"
      ]
     },
     "execution_count": 45,
     "metadata": {},
     "output_type": "execute_result"
    }
   ],
   "source": [
    "budget = budget.str.replace(r'\\[\\d+\\]\\s*', '')\n",
    "budget[~matches_form_one & ~matches_form_two]"
   ]
  },
  {
   "cell_type": "code",
   "execution_count": 46,
   "id": "forced-experience",
   "metadata": {
    "ExecuteTime": {
     "end_time": "2021-04-11T19:31:59.005463Z",
     "start_time": "2021-04-11T19:31:58.805907Z"
    }
   },
   "outputs": [],
   "source": [
    "wiki_movies_df['budget'] = budget.str.extract(f'({form_one}|{form_two})', flags=re.IGNORECASE)[0].apply(parse_dollars)\n"
   ]
  },
  {
   "cell_type": "code",
   "execution_count": 47,
   "id": "minute-earthquake",
   "metadata": {
    "ExecuteTime": {
     "end_time": "2021-04-11T19:31:59.219477Z",
     "start_time": "2021-04-11T19:31:59.006393Z"
    }
   },
   "outputs": [],
   "source": [
    "wiki_movies_df.drop('Budget', axis=1, inplace=True)"
   ]
  },
  {
   "cell_type": "markdown",
   "id": "alive-baking",
   "metadata": {},
   "source": [
    "Parse the release date data\n",
    "\n",
    "similar to the financial pattern but with different forms."
   ]
  },
  {
   "cell_type": "code",
   "execution_count": null,
   "id": "stone-attempt",
   "metadata": {
    "ExecuteTime": {
     "end_time": "2021-04-11T19:33:31.307265Z",
     "start_time": "2021-04-11T19:33:31.297251Z"
    }
   },
   "outputs": [],
   "source": [
    "# make a variable that holds the non-null values of release date in a DF.  convert the lists to strings.\n",
    "\n",
    "release_date = wiki_movies_df['Release date'].dropna().apply(lambda x: ' '.join(x) if type(x) == list else x)"
   ]
  },
  {
   "cell_type": "markdown",
   "id": "fundamental-promotion",
   "metadata": {},
   "source": [
    "the forms to parse are:\n",
    "- Full month name, one- to two-digit day, four-digit year (i.e., January 1, 2000)\n",
    "\n",
    "- Four-digit year, two-digit month, two-digit day, with any separator (i.e., 2000-01-01)\n",
    "\n",
    "- Full month name, four-digit year (i.e., January 2000)\n",
    " \n",
    "- Four-digit year\n"
   ]
  },
  {
   "cell_type": "code",
   "execution_count": 49,
   "id": "voluntary-decrease",
   "metadata": {
    "ExecuteTime": {
     "end_time": "2021-04-11T19:45:42.115348Z",
     "start_time": "2021-04-11T19:45:42.111355Z"
    }
   },
   "outputs": [],
   "source": [
    "#See notes above for each form\n",
    "date_form_one = r'(?:January|February|March|April|May|June|July|August|September|October|November|December)\\s[123]\\d,\\s\\d{4}'\n",
    "date_form_two = r'\\d{4}.[01]\\d.[123]\\d'\n",
    "date_form_three = r'(?:January|February|March|April|May|June|July|August|September|October|November|December)\\s\\d{4}'\n",
    "date_form_four = r'\\d{4}'\n"
   ]
  },
  {
   "cell_type": "code",
   "execution_count": 50,
   "id": "located-walker",
   "metadata": {
    "ExecuteTime": {
     "end_time": "2021-04-11T19:46:25.599364Z",
     "start_time": "2021-04-11T19:46:25.570442Z"
    }
   },
   "outputs": [
    {
     "data": {
      "text/html": [
       "<div>\n",
       "<style scoped>\n",
       "    .dataframe tbody tr th:only-of-type {\n",
       "        vertical-align: middle;\n",
       "    }\n",
       "\n",
       "    .dataframe tbody tr th {\n",
       "        vertical-align: top;\n",
       "    }\n",
       "\n",
       "    .dataframe thead th {\n",
       "        text-align: right;\n",
       "    }\n",
       "</style>\n",
       "<table border=\"1\" class=\"dataframe\">\n",
       "  <thead>\n",
       "    <tr style=\"text-align: right;\">\n",
       "      <th></th>\n",
       "      <th>0</th>\n",
       "    </tr>\n",
       "  </thead>\n",
       "  <tbody>\n",
       "    <tr>\n",
       "      <th>0</th>\n",
       "      <td>July 11, 1990</td>\n",
       "    </tr>\n",
       "    <tr>\n",
       "      <th>1</th>\n",
       "      <td>May 17, 1990</td>\n",
       "    </tr>\n",
       "    <tr>\n",
       "      <th>2</th>\n",
       "      <td>August 10, 1990</td>\n",
       "    </tr>\n",
       "    <tr>\n",
       "      <th>3</th>\n",
       "      <td>December 25, 1990</td>\n",
       "    </tr>\n",
       "    <tr>\n",
       "      <th>4</th>\n",
       "      <td>December 19, 1990</td>\n",
       "    </tr>\n",
       "    <tr>\n",
       "      <th>...</th>\n",
       "      <td>...</td>\n",
       "    </tr>\n",
       "    <tr>\n",
       "      <th>7071</th>\n",
       "      <td>December 25, 2018</td>\n",
       "    </tr>\n",
       "    <tr>\n",
       "      <th>7072</th>\n",
       "      <td>December 11, 2018</td>\n",
       "    </tr>\n",
       "    <tr>\n",
       "      <th>7073</th>\n",
       "      <td>2018</td>\n",
       "    </tr>\n",
       "    <tr>\n",
       "      <th>7074</th>\n",
       "      <td>August 31, 2018</td>\n",
       "    </tr>\n",
       "    <tr>\n",
       "      <th>7075</th>\n",
       "      <td>December 2018</td>\n",
       "    </tr>\n",
       "  </tbody>\n",
       "</table>\n",
       "<p>7001 rows × 1 columns</p>\n",
       "</div>"
      ],
      "text/plain": [
       "                      0\n",
       "0         July 11, 1990\n",
       "1          May 17, 1990\n",
       "2       August 10, 1990\n",
       "3     December 25, 1990\n",
       "4     December 19, 1990\n",
       "...                 ...\n",
       "7071  December 25, 2018\n",
       "7072  December 11, 2018\n",
       "7073               2018\n",
       "7074    August 31, 2018\n",
       "7075      December 2018\n",
       "\n",
       "[7001 rows x 1 columns]"
      ]
     },
     "execution_count": 50,
     "metadata": {},
     "output_type": "execute_result"
    }
   ],
   "source": [
    "#extract the dates \n",
    "release_date.str.extract(f'({date_form_one}|{date_form_two}|{date_form_three}|{date_form_four})', flags=re.IGNORECASE)"
   ]
  },
  {
   "cell_type": "code",
   "execution_count": 51,
   "id": "painted-modeling",
   "metadata": {
    "ExecuteTime": {
     "end_time": "2021-04-11T19:46:46.562928Z",
     "start_time": "2021-04-11T19:46:46.082319Z"
    }
   },
   "outputs": [],
   "source": [
    "wiki_movies_df['release_date'] = pd.to_datetime(release_date.str.extract(f'({date_form_one}|{date_form_two}|{date_form_three}|{date_form_four})')[0], infer_datetime_format=True)"
   ]
  },
  {
   "cell_type": "markdown",
   "id": "innocent-commons",
   "metadata": {},
   "source": [
    "Parse Running Time\n"
   ]
  },
  {
   "cell_type": "code",
   "execution_count": 52,
   "id": "comparable-asian",
   "metadata": {
    "ExecuteTime": {
     "end_time": "2021-04-11T19:47:34.640597Z",
     "start_time": "2021-04-11T19:47:34.633618Z"
    }
   },
   "outputs": [],
   "source": [
    "# make a variable that holds the non-null values of Release date in the DataFrame, converting lists to strings:\n",
    "running_time = wiki_movies_df['Running time'].dropna().apply(lambda x: ' '.join(x) if type(x) == list else x)"
   ]
  },
  {
   "cell_type": "code",
   "execution_count": 60,
   "id": "competitive-gallery",
   "metadata": {
    "ExecuteTime": {
     "end_time": "2021-04-11T19:53:13.623948Z",
     "start_time": "2021-04-11T19:53:13.617964Z"
    }
   },
   "outputs": [
    {
     "data": {
      "text/plain": [
       "6894"
      ]
     },
     "execution_count": 60,
     "metadata": {},
     "output_type": "execute_result"
    }
   ],
   "source": [
    "len(running_time)"
   ]
  },
  {
   "cell_type": "code",
   "execution_count": 61,
   "id": "dynamic-december",
   "metadata": {
    "ExecuteTime": {
     "end_time": "2021-04-11T19:53:18.518200Z",
     "start_time": "2021-04-11T19:53:18.513203Z"
    }
   },
   "outputs": [
    {
     "data": {
      "text/plain": [
       "0                                 102 minutes\n",
       "1                                 114 minutes\n",
       "2                                 113 minutes\n",
       "3                                 106 minutes\n",
       "4                                  95 minutes\n",
       "                        ...                  \n",
       "7071                               90 minutes\n",
       "7072                              132 minutes\n",
       "7073                              120 minutes\n",
       "7074                              123 minutes\n",
       "7075    Variable; 90 minutes for default path\n",
       "Name: Running time, Length: 6894, dtype: object"
      ]
     },
     "execution_count": 61,
     "metadata": {},
     "output_type": "execute_result"
    }
   ],
   "source": [
    "#inspect the data\n",
    "running_time"
   ]
  },
  {
   "cell_type": "markdown",
   "id": "third-visibility",
   "metadata": {},
   "source": [
    "most of the entries just look like \"100 minutes.\" Let's see how many running times look exactly like that by using string boundaries."
   ]
  },
  {
   "cell_type": "code",
   "execution_count": 62,
   "id": "limited-silly",
   "metadata": {
    "ExecuteTime": {
     "end_time": "2021-04-11T19:53:23.338211Z",
     "start_time": "2021-04-11T19:53:23.328236Z"
    }
   },
   "outputs": [
    {
     "data": {
      "text/plain": [
       "6528"
      ]
     },
     "execution_count": 62,
     "metadata": {},
     "output_type": "execute_result"
    }
   ],
   "source": [
    "running_time.str.contains(r'^\\d*\\s*minutes$', flags=re.IGNORECASE).sum()"
   ]
  },
  {
   "cell_type": "code",
   "execution_count": 63,
   "id": "under-mineral",
   "metadata": {
    "ExecuteTime": {
     "end_time": "2021-04-11T19:53:27.461063Z",
     "start_time": "2021-04-11T19:53:27.442117Z"
    }
   },
   "outputs": [
    {
     "data": {
      "text/plain": [
       "9                                                 102 min\n",
       "26                                                 93 min\n",
       "28                                                32 min.\n",
       "34                                                101 min\n",
       "35                                                 97 min\n",
       "                              ...                        \n",
       "6500       114 minutes [1] 120 minutes (extended edition)\n",
       "6643                                             104 mins\n",
       "6709    90 minutes (theatrical) [1] 91 minutes (unrate...\n",
       "7057    108 minutes (Original cut) 98 minutes (UK cut)...\n",
       "7075                Variable; 90 minutes for default path\n",
       "Name: Running time, Length: 366, dtype: object"
      ]
     },
     "execution_count": 63,
     "metadata": {},
     "output_type": "execute_result"
    }
   ],
   "source": [
    "running_time[running_time.str.contains(r'^\\d*\\s*minutes$', flags=re.IGNORECASE) != True]"
   ]
  },
  {
   "cell_type": "markdown",
   "id": "suited-advisory",
   "metadata": {
    "ExecuteTime": {
     "end_time": "2021-04-11T19:51:39.943198Z",
     "start_time": "2021-04-11T19:51:39.938211Z"
    }
   },
   "source": [
    "Let's make this more general by only marking the beginning of the string, and accepting other abbreviations of \"minutes\" by only searching up to the letter \"m.\""
   ]
  },
  {
   "cell_type": "code",
   "execution_count": 64,
   "id": "parental-humidity",
   "metadata": {
    "ExecuteTime": {
     "end_time": "2021-04-11T19:53:31.079105Z",
     "start_time": "2021-04-11T19:53:31.067098Z"
    }
   },
   "outputs": [
    {
     "data": {
      "text/plain": [
       "6877"
      ]
     },
     "execution_count": 64,
     "metadata": {},
     "output_type": "execute_result"
    }
   ],
   "source": [
    "running_time.str.contains(r'^\\d*\\s*m', flags=re.IGNORECASE).sum()"
   ]
  },
  {
   "cell_type": "markdown",
   "id": "finished-rental",
   "metadata": {},
   "source": [
    "17 left to work on"
   ]
  },
  {
   "cell_type": "code",
   "execution_count": 65,
   "id": "pointed-hawaiian",
   "metadata": {
    "ExecuteTime": {
     "end_time": "2021-04-11T19:53:34.883654Z",
     "start_time": "2021-04-11T19:53:34.864707Z"
    }
   },
   "outputs": [
    {
     "data": {
      "text/plain": [
       "668                     UK:84 min (DVD version) US:86 min\n",
       "727                         78-102 min (depending on cut)\n",
       "840                       Varies (79 [3] –84 [1] minutes)\n",
       "1347                                              25 : 03\n",
       "1443    United States: 77 minutes Argentina: 94 minute...\n",
       "1499                                            1hr 35min\n",
       "1551                                               varies\n",
       "1774                    Netherlands:96 min, Canada:95 min\n",
       "1777                                       approx. 14 min\n",
       "2273                                           1 h 43 min\n",
       "2993                                               1h 48m\n",
       "3925                                              4 hours\n",
       "4425    US domestic version: 86 minutes Original versi...\n",
       "4967    Theatrical cut: 97 minutes Unrated cut: 107 mi...\n",
       "5424                    115 [1] /123 [2] /128 [3] minutes\n",
       "5447                                    1 hour 32 minutes\n",
       "7075                Variable; 90 minutes for default path\n",
       "Name: Running time, dtype: object"
      ]
     },
     "execution_count": 65,
     "metadata": {},
     "output_type": "execute_result"
    }
   ],
   "source": [
    "running_time[running_time.str.contains(r'^\\d*\\s*m', flags=re.IGNORECASE) != True]"
   ]
  },
  {
   "cell_type": "markdown",
   "id": "altered-lightning",
   "metadata": {},
   "source": [
    "capture some more of these by relaxing the condition that the pattern has to start with at the beginning of the string, but the entries with hours and minutes listed separately will give erroneous data."
   ]
  },
  {
   "cell_type": "code",
   "execution_count": 66,
   "id": "decent-parts",
   "metadata": {
    "ExecuteTime": {
     "end_time": "2021-04-11T19:55:47.056108Z",
     "start_time": "2021-04-11T19:55:47.043144Z"
    }
   },
   "outputs": [
    {
     "data": {
      "text/plain": [
       "1347    25 : 03\n",
       "1551     varies\n",
       "3925    4 hours\n",
       "Name: Running time, dtype: object"
      ]
     },
     "execution_count": 66,
     "metadata": {},
     "output_type": "execute_result"
    }
   ],
   "source": [
    "running_time[running_time.str.contains(r'\\d*\\s*m', flags=re.IGNORECASE) != True]"
   ]
  },
  {
   "cell_type": "markdown",
   "id": "shaped-quality",
   "metadata": {
    "ExecuteTime": {
     "end_time": "2021-04-11T19:56:08.751196Z",
     "start_time": "2021-04-11T19:56:08.746251Z"
    }
   },
   "source": [
    "extract the data"
   ]
  },
  {
   "cell_type": "code",
   "execution_count": 68,
   "id": "treated-chick",
   "metadata": {
    "ExecuteTime": {
     "end_time": "2021-04-11T19:57:10.876766Z",
     "start_time": "2021-04-11T19:57:10.847843Z"
    }
   },
   "outputs": [],
   "source": [
    "running_time_extract = running_time.str.extract(r'(\\d+)\\s*ho?u?r?s?\\s*(\\d*)|(\\d+)\\s*m')"
   ]
  },
  {
   "cell_type": "code",
   "execution_count": 69,
   "id": "crucial-quest",
   "metadata": {
    "ExecuteTime": {
     "end_time": "2021-04-11T19:57:25.106480Z",
     "start_time": "2021-04-11T19:57:25.100500Z"
    }
   },
   "outputs": [
    {
     "data": {
      "text/plain": [
       "6894"
      ]
     },
     "execution_count": 69,
     "metadata": {},
     "output_type": "execute_result"
    }
   ],
   "source": [
    "len(running_time_extract)"
   ]
  },
  {
   "cell_type": "markdown",
   "id": "damaged-parks",
   "metadata": {},
   "source": [
    "this new DataFrame is all strings, we'll need to convert them to numeric values. Because we may have captured empty strings, we'll use the to_numeric() method and set the errors argument to 'coerce'. Coercing the errors will turn the empty strings into Not a Number (NaN), then we can use fillna() to change all the NaNs to zeros."
   ]
  },
  {
   "cell_type": "code",
   "execution_count": 70,
   "id": "acute-roberts",
   "metadata": {
    "ExecuteTime": {
     "end_time": "2021-04-11T19:58:26.956131Z",
     "start_time": "2021-04-11T19:58:26.749872Z"
    }
   },
   "outputs": [],
   "source": [
    "running_time_extract = running_time_extract.apply(lambda col: pd.to_numeric(col, errors='coerce')).fillna(0)"
   ]
  },
  {
   "cell_type": "markdown",
   "id": "infectious-founder",
   "metadata": {},
   "source": [
    "apply a function that will convert the hour capture groups and minute capture groups to minutes if the pure minutes capture group is zero, and save the output to wiki_movies_df:"
   ]
  },
  {
   "cell_type": "code",
   "execution_count": 71,
   "id": "regular-fitting",
   "metadata": {
    "ExecuteTime": {
     "end_time": "2021-04-11T19:58:55.868058Z",
     "start_time": "2021-04-11T19:58:55.762044Z"
    }
   },
   "outputs": [],
   "source": [
    "wiki_movies_df['running_time'] = running_time_extract.apply(lambda row: row[0]*60 + row[1] if row[2] == 0 else row[2], axis=1)"
   ]
  },
  {
   "cell_type": "markdown",
   "id": "infinite-amino",
   "metadata": {},
   "source": [
    "drop Running time from the dataset with the following code:"
   ]
  },
  {
   "cell_type": "code",
   "execution_count": 72,
   "id": "grave-release",
   "metadata": {
    "ExecuteTime": {
     "end_time": "2021-04-11T19:59:30.988456Z",
     "start_time": "2021-04-11T19:59:30.978479Z"
    }
   },
   "outputs": [],
   "source": [
    "wiki_movies_df.drop('Running time', axis=1, inplace=True)"
   ]
  },
  {
   "cell_type": "markdown",
   "id": "honey-clinton",
   "metadata": {},
   "source": [
    "8.3.12\n",
    "\n",
    "Kaggle data cleaning"
   ]
  },
  {
   "cell_type": "code",
   "execution_count": 73,
   "id": "creative-smell",
   "metadata": {
    "ExecuteTime": {
     "end_time": "2021-04-11T20:03:33.386893Z",
     "start_time": "2021-04-11T20:03:33.377954Z"
    }
   },
   "outputs": [
    {
     "data": {
      "text/plain": [
       "adult                     object\n",
       "belongs_to_collection     object\n",
       "budget                    object\n",
       "genres                    object\n",
       "homepage                  object\n",
       "id                        object\n",
       "imdb_id                   object\n",
       "original_language         object\n",
       "original_title            object\n",
       "overview                  object\n",
       "popularity                object\n",
       "poster_path               object\n",
       "production_companies      object\n",
       "production_countries      object\n",
       "release_date              object\n",
       "revenue                  float64\n",
       "runtime                  float64\n",
       "spoken_languages          object\n",
       "status                    object\n",
       "tagline                   object\n",
       "title                     object\n",
       "video                     object\n",
       "vote_average             float64\n",
       "vote_count               float64\n",
       "dtype: object"
      ]
     },
     "execution_count": 73,
     "metadata": {},
     "output_type": "execute_result"
    }
   ],
   "source": [
    "kaggle_metadata.dtypes"
   ]
  },
  {
   "cell_type": "markdown",
   "id": "removed-diana",
   "metadata": {},
   "source": [
    "review the list and convert the data types for each of the six columns that need to be converted.\n",
    "\n",
    "Before we convert the \"adult\" and \"video\" columns, we want to check that all the values are either True or False."
   ]
  },
  {
   "cell_type": "code",
   "execution_count": 74,
   "id": "paperback-disabled",
   "metadata": {
    "ExecuteTime": {
     "end_time": "2021-04-11T20:07:09.287380Z",
     "start_time": "2021-04-11T20:07:09.278440Z"
    }
   },
   "outputs": [
    {
     "data": {
      "text/plain": [
       "False                                                                                                                             45454\n",
       "True                                                                                                                                  9\n",
       " - Written by Ørnås                                                                                                                   1\n",
       " Avalanche Sharks tells the story of a bikini contest that turns into a horrifying affair when it is hit by a shark avalanche.        1\n",
       " Rune Balot goes to a casino connected to the October corporation to try to wrap up her case once and for all.                        1\n",
       "Name: adult, dtype: int64"
      ]
     },
     "execution_count": 74,
     "metadata": {},
     "output_type": "execute_result"
    }
   ],
   "source": [
    "kaggle_metadata['adult'].value_counts()"
   ]
  },
  {
   "cell_type": "markdown",
   "id": "removed-tiffany",
   "metadata": {},
   "source": [
    "lets remove this data and others like it - ie.where Adult == true"
   ]
  },
  {
   "cell_type": "code",
   "execution_count": 75,
   "id": "expired-catering",
   "metadata": {
    "ExecuteTime": {
     "end_time": "2021-04-11T20:08:20.751721Z",
     "start_time": "2021-04-11T20:08:20.729815Z"
    }
   },
   "outputs": [
    {
     "data": {
      "text/html": [
       "<div>\n",
       "<style scoped>\n",
       "    .dataframe tbody tr th:only-of-type {\n",
       "        vertical-align: middle;\n",
       "    }\n",
       "\n",
       "    .dataframe tbody tr th {\n",
       "        vertical-align: top;\n",
       "    }\n",
       "\n",
       "    .dataframe thead th {\n",
       "        text-align: right;\n",
       "    }\n",
       "</style>\n",
       "<table border=\"1\" class=\"dataframe\">\n",
       "  <thead>\n",
       "    <tr style=\"text-align: right;\">\n",
       "      <th></th>\n",
       "      <th>adult</th>\n",
       "      <th>belongs_to_collection</th>\n",
       "      <th>budget</th>\n",
       "      <th>genres</th>\n",
       "      <th>homepage</th>\n",
       "      <th>id</th>\n",
       "      <th>imdb_id</th>\n",
       "      <th>original_language</th>\n",
       "      <th>original_title</th>\n",
       "      <th>overview</th>\n",
       "      <th>...</th>\n",
       "      <th>release_date</th>\n",
       "      <th>revenue</th>\n",
       "      <th>runtime</th>\n",
       "      <th>spoken_languages</th>\n",
       "      <th>status</th>\n",
       "      <th>tagline</th>\n",
       "      <th>title</th>\n",
       "      <th>video</th>\n",
       "      <th>vote_average</th>\n",
       "      <th>vote_count</th>\n",
       "    </tr>\n",
       "  </thead>\n",
       "  <tbody>\n",
       "    <tr>\n",
       "      <th>19730</th>\n",
       "      <td>- Written by Ørnås</td>\n",
       "      <td>0.065736</td>\n",
       "      <td>/ff9qCepilowshEtG2GYWwzt2bs4.jpg</td>\n",
       "      <td>[{'name': 'Carousel Productions', 'id': 11176}...</td>\n",
       "      <td>[{'iso_3166_1': 'CA', 'name': 'Canada'}, {'iso...</td>\n",
       "      <td>1997-08-20</td>\n",
       "      <td>0</td>\n",
       "      <td>104.0</td>\n",
       "      <td>[{'iso_639_1': 'en', 'name': 'English'}]</td>\n",
       "      <td>Released</td>\n",
       "      <td>...</td>\n",
       "      <td>1</td>\n",
       "      <td>NaN</td>\n",
       "      <td>NaN</td>\n",
       "      <td>NaN</td>\n",
       "      <td>NaN</td>\n",
       "      <td>NaN</td>\n",
       "      <td>NaN</td>\n",
       "      <td>NaN</td>\n",
       "      <td>NaN</td>\n",
       "      <td>NaN</td>\n",
       "    </tr>\n",
       "    <tr>\n",
       "      <th>29503</th>\n",
       "      <td>Rune Balot goes to a casino connected to the ...</td>\n",
       "      <td>1.931659</td>\n",
       "      <td>/zV8bHuSL6WXoD6FWogP9j4x80bL.jpg</td>\n",
       "      <td>[{'name': 'Aniplex', 'id': 2883}, {'name': 'Go...</td>\n",
       "      <td>[{'iso_3166_1': 'US', 'name': 'United States o...</td>\n",
       "      <td>2012-09-29</td>\n",
       "      <td>0</td>\n",
       "      <td>68.0</td>\n",
       "      <td>[{'iso_639_1': 'ja', 'name': '日本語'}]</td>\n",
       "      <td>Released</td>\n",
       "      <td>...</td>\n",
       "      <td>12</td>\n",
       "      <td>NaN</td>\n",
       "      <td>NaN</td>\n",
       "      <td>NaN</td>\n",
       "      <td>NaN</td>\n",
       "      <td>NaN</td>\n",
       "      <td>NaN</td>\n",
       "      <td>NaN</td>\n",
       "      <td>NaN</td>\n",
       "      <td>NaN</td>\n",
       "    </tr>\n",
       "    <tr>\n",
       "      <th>35587</th>\n",
       "      <td>Avalanche Sharks tells the story of a bikini ...</td>\n",
       "      <td>2.185485</td>\n",
       "      <td>/zaSf5OG7V8X8gqFvly88zDdRm46.jpg</td>\n",
       "      <td>[{'name': 'Odyssey Media', 'id': 17161}, {'nam...</td>\n",
       "      <td>[{'iso_3166_1': 'CA', 'name': 'Canada'}]</td>\n",
       "      <td>2014-01-01</td>\n",
       "      <td>0</td>\n",
       "      <td>82.0</td>\n",
       "      <td>[{'iso_639_1': 'en', 'name': 'English'}]</td>\n",
       "      <td>Released</td>\n",
       "      <td>...</td>\n",
       "      <td>22</td>\n",
       "      <td>NaN</td>\n",
       "      <td>NaN</td>\n",
       "      <td>NaN</td>\n",
       "      <td>NaN</td>\n",
       "      <td>NaN</td>\n",
       "      <td>NaN</td>\n",
       "      <td>NaN</td>\n",
       "      <td>NaN</td>\n",
       "      <td>NaN</td>\n",
       "    </tr>\n",
       "  </tbody>\n",
       "</table>\n",
       "<p>3 rows × 24 columns</p>\n",
       "</div>"
      ],
      "text/plain": [
       "                                                   adult  \\\n",
       "19730                                 - Written by Ørnås   \n",
       "29503   Rune Balot goes to a casino connected to the ...   \n",
       "35587   Avalanche Sharks tells the story of a bikini ...   \n",
       "\n",
       "      belongs_to_collection                            budget  \\\n",
       "19730              0.065736  /ff9qCepilowshEtG2GYWwzt2bs4.jpg   \n",
       "29503              1.931659  /zV8bHuSL6WXoD6FWogP9j4x80bL.jpg   \n",
       "35587              2.185485  /zaSf5OG7V8X8gqFvly88zDdRm46.jpg   \n",
       "\n",
       "                                                  genres  \\\n",
       "19730  [{'name': 'Carousel Productions', 'id': 11176}...   \n",
       "29503  [{'name': 'Aniplex', 'id': 2883}, {'name': 'Go...   \n",
       "35587  [{'name': 'Odyssey Media', 'id': 17161}, {'nam...   \n",
       "\n",
       "                                                homepage          id imdb_id  \\\n",
       "19730  [{'iso_3166_1': 'CA', 'name': 'Canada'}, {'iso...  1997-08-20       0   \n",
       "29503  [{'iso_3166_1': 'US', 'name': 'United States o...  2012-09-29       0   \n",
       "35587           [{'iso_3166_1': 'CA', 'name': 'Canada'}]  2014-01-01       0   \n",
       "\n",
       "      original_language                            original_title  overview  \\\n",
       "19730             104.0  [{'iso_639_1': 'en', 'name': 'English'}]  Released   \n",
       "29503              68.0      [{'iso_639_1': 'ja', 'name': '日本語'}]  Released   \n",
       "35587              82.0  [{'iso_639_1': 'en', 'name': 'English'}]  Released   \n",
       "\n",
       "       ... release_date revenue runtime spoken_languages status  tagline  \\\n",
       "19730  ...            1     NaN     NaN              NaN    NaN      NaN   \n",
       "29503  ...           12     NaN     NaN              NaN    NaN      NaN   \n",
       "35587  ...           22     NaN     NaN              NaN    NaN      NaN   \n",
       "\n",
       "       title video vote_average vote_count  \n",
       "19730    NaN   NaN          NaN        NaN  \n",
       "29503    NaN   NaN          NaN        NaN  \n",
       "35587    NaN   NaN          NaN        NaN  \n",
       "\n",
       "[3 rows x 24 columns]"
      ]
     },
     "execution_count": 75,
     "metadata": {},
     "output_type": "execute_result"
    }
   ],
   "source": [
    "kaggle_metadata[~kaggle_metadata['adult'].isin(['True','False'])]"
   ]
  },
  {
   "cell_type": "code",
   "execution_count": 76,
   "id": "million-paste",
   "metadata": {
    "ExecuteTime": {
     "end_time": "2021-04-11T20:10:42.869143Z",
     "start_time": "2021-04-11T20:10:42.771405Z"
    }
   },
   "outputs": [],
   "source": [
    "# find rows where Adult is false and keep them,  drop the Adult column\n",
    "\n",
    "kaggle_metadata = kaggle_metadata[kaggle_metadata['adult'] == 'False'].drop('adult',axis='columns')"
   ]
  },
  {
   "cell_type": "markdown",
   "id": "destroyed-commissioner",
   "metadata": {},
   "source": [
    "look at the values of the video column\n"
   ]
  },
  {
   "cell_type": "code",
   "execution_count": 77,
   "id": "emotional-introduction",
   "metadata": {
    "ExecuteTime": {
     "end_time": "2021-04-11T20:11:50.053285Z",
     "start_time": "2021-04-11T20:11:50.043352Z"
    }
   },
   "outputs": [
    {
     "data": {
      "text/plain": [
       "False    45358\n",
       "True        93\n",
       "Name: video, dtype: int64"
      ]
     },
     "execution_count": 77,
     "metadata": {},
     "output_type": "execute_result"
    }
   ],
   "source": [
    "kaggle_metadata['video'].value_counts()"
   ]
  },
  {
   "cell_type": "markdown",
   "id": "signed-preference",
   "metadata": {},
   "source": [
    "there are only 2 types of data here so fairly easy to convert."
   ]
  },
  {
   "cell_type": "markdown",
   "id": "brilliant-compound",
   "metadata": {},
   "source": [
    "##### Convert Data Types"
   ]
  },
  {
   "cell_type": "code",
   "execution_count": 78,
   "id": "heavy-merchant",
   "metadata": {
    "ExecuteTime": {
     "end_time": "2021-04-11T20:14:41.392062Z",
     "start_time": "2021-04-11T20:14:41.372114Z"
    }
   },
   "outputs": [],
   "source": [
    "#this code creates the Boolean column we want:kaggle_metadata['video'] == 'True'.  then assign it back to video:\n",
    "\n",
    "kaggle_metadata['video'] = kaggle_metadata['video'] == 'True'"
   ]
  },
  {
   "cell_type": "markdown",
   "id": "bacterial-visit",
   "metadata": {},
   "source": [
    "use the to_numeric() method from Pandas for the numeric columns. set the errors= argument to 'raise', so we'll know if there's any data that can't be converted to numbers."
   ]
  },
  {
   "cell_type": "code",
   "execution_count": 79,
   "id": "short-emphasis",
   "metadata": {
    "ExecuteTime": {
     "end_time": "2021-04-11T20:16:00.459238Z",
     "start_time": "2021-04-11T20:16:00.385435Z"
    }
   },
   "outputs": [],
   "source": [
    "kaggle_metadata['budget'] = kaggle_metadata['budget'].astype(int)\n",
    "kaggle_metadata['id'] = pd.to_numeric(kaggle_metadata['id'], errors='raise')\n",
    "kaggle_metadata['popularity'] = pd.to_numeric(kaggle_metadata['popularity'], errors='raise')"
   ]
  },
  {
   "cell_type": "markdown",
   "id": "documented-activity",
   "metadata": {},
   "source": [
    "there is no output so everything converted fine!"
   ]
  },
  {
   "cell_type": "markdown",
   "id": "understanding-validity",
   "metadata": {
    "ExecuteTime": {
     "end_time": "2021-04-11T20:17:12.122763Z",
     "start_time": "2021-04-11T20:17:12.116780Z"
    }
   },
   "source": [
    "convert release_date to datetime. Use Pandas built-in function for that as well: to_datetime().\n",
    "\n",
    "release_date is in a standard format, to_datetime() will convert it without any fuss."
   ]
  },
  {
   "cell_type": "code",
   "execution_count": 81,
   "id": "french-screen",
   "metadata": {
    "ExecuteTime": {
     "end_time": "2021-04-11T20:18:33.455853Z",
     "start_time": "2021-04-11T20:18:33.425933Z"
    }
   },
   "outputs": [],
   "source": [
    "kaggle_metadata['release_date'] = pd.to_datetime(kaggle_metadata['release_date'])"
   ]
  },
  {
   "cell_type": "markdown",
   "id": "unlikely-documentation",
   "metadata": {},
   "source": [
    "Ratings Data reasonability checks"
   ]
  },
  {
   "cell_type": "markdown",
   "id": "solid-vacation",
   "metadata": {},
   "source": [
    "use the info() method on the DataFrame. Since the ratings dataset has so many rows, we need to set the null_counts option to True."
   ]
  },
  {
   "cell_type": "code",
   "execution_count": 82,
   "id": "extended-legislature",
   "metadata": {
    "ExecuteTime": {
     "end_time": "2021-04-11T20:19:57.915530Z",
     "start_time": "2021-04-11T20:19:57.597215Z"
    }
   },
   "outputs": [
    {
     "name": "stderr",
     "output_type": "stream",
     "text": [
      "C:\\Users\\phili\\anaconda3\\envs\\PythonData\\lib\\site-packages\\ipykernel_launcher.py:1: FutureWarning: null_counts is deprecated. Use show_counts instead\n",
      "  \"\"\"Entry point for launching an IPython kernel.\n"
     ]
    },
    {
     "name": "stdout",
     "output_type": "stream",
     "text": [
      "<class 'pandas.core.frame.DataFrame'>\n",
      "RangeIndex: 26024289 entries, 0 to 26024288\n",
      "Data columns (total 4 columns):\n",
      " #   Column     Non-Null Count     Dtype  \n",
      "---  ------     --------------     -----  \n",
      " 0   userId     26024289 non-null  int64  \n",
      " 1   movieId    26024289 non-null  int64  \n",
      " 2   rating     26024289 non-null  float64\n",
      " 3   timestamp  26024289 non-null  int64  \n",
      "dtypes: float64(1), int64(3)\n",
      "memory usage: 794.2 MB\n"
     ]
    }
   ],
   "source": [
    "ratings.info(null_counts=True)"
   ]
  },
  {
   "cell_type": "markdown",
   "id": "beautiful-colon",
   "metadata": {},
   "source": [
    "we won't be using the timestamp column; however, we will be storing the rating data as its own table in SQL, so we'll need to convert it to a datetime data type."
   ]
  },
  {
   "cell_type": "markdown",
   "id": "unique-integrity",
   "metadata": {},
   "source": [
    "Specify in to_datetime() that the origin is 'unix' and the time unit is seconds."
   ]
  },
  {
   "cell_type": "code",
   "execution_count": 83,
   "id": "electronic-hazard",
   "metadata": {
    "ExecuteTime": {
     "end_time": "2021-04-11T20:25:35.047460Z",
     "start_time": "2021-04-11T20:25:34.380207Z"
    }
   },
   "outputs": [
    {
     "data": {
      "text/plain": [
       "0          2015-03-09 22:52:09\n",
       "1          2015-03-09 23:07:15\n",
       "2          2015-03-09 22:52:03\n",
       "3          2015-03-09 22:52:26\n",
       "4          2015-03-09 22:52:36\n",
       "                   ...        \n",
       "26024284   2009-10-31 23:26:04\n",
       "26024285   2009-10-31 23:33:52\n",
       "26024286   2009-10-31 23:29:24\n",
       "26024287   2009-11-01 00:06:30\n",
       "26024288   2009-10-31 23:30:58\n",
       "Name: timestamp, Length: 26024289, dtype: datetime64[ns]"
      ]
     },
     "execution_count": 83,
     "metadata": {},
     "output_type": "execute_result"
    }
   ],
   "source": [
    "pd.to_datetime(ratings['timestamp'], unit='s')"
   ]
  },
  {
   "cell_type": "markdown",
   "id": "visible-lighting",
   "metadata": {},
   "source": [
    "data looks good.  will assign it to timestamp column"
   ]
  },
  {
   "cell_type": "code",
   "execution_count": 84,
   "id": "surrounded-globe",
   "metadata": {
    "ExecuteTime": {
     "end_time": "2021-04-11T20:26:35.417080Z",
     "start_time": "2021-04-11T20:26:34.459579Z"
    }
   },
   "outputs": [],
   "source": [
    "ratings['timestamp'] = pd.to_datetime(ratings['timestamp'], unit='s')"
   ]
  },
  {
   "cell_type": "markdown",
   "id": "severe-generation",
   "metadata": {},
   "source": [
    "Look at the statistics of the actual ratings and see if there are any glaring errors. A quick, easy way to do this is to look at a histogram of the rating distributions, and then use the describe() method to print out some stats on central tendency and spread."
   ]
  },
  {
   "cell_type": "code",
   "execution_count": 85,
   "id": "offshore-programming",
   "metadata": {
    "ExecuteTime": {
     "end_time": "2021-04-11T20:27:47.931134Z",
     "start_time": "2021-04-11T20:27:36.339581Z"
    }
   },
   "outputs": [
    {
     "data": {
      "text/plain": [
       "count          26,024,289.00\n",
       "mean                    3.53\n",
       "std                     1.07\n",
       "min                     0.50\n",
       "25%                     3.00\n",
       "50%                     3.50\n",
       "75%                     4.00\n",
       "max                     5.00\n",
       "Name: rating, dtype: float64"
      ]
     },
     "execution_count": 85,
     "metadata": {},
     "output_type": "execute_result"
    },
    {
     "data": {
      "image/png": "[encoded data removed]",
      "text/plain": [
       "<Figure size 432x288 with 1 Axes>"
      ]
     },
     "metadata": {
      "needs_background": "light"
     },
     "output_type": "display_data"
    }
   ],
   "source": [
    "pd.options.display.float_format = '{:20,.2f}'.format\n",
    "ratings['rating'].plot(kind='hist')\n",
    "ratings['rating'].describe()"
   ]
  },
  {
   "cell_type": "markdown",
   "id": "numerical-kentucky",
   "metadata": {},
   "source": [
    "This seems to make sense. People are more likely to give whole number ratings than half, which explains the spikes in the histogram. The median score is 3.5, the mean is 3.53, and all the ratings are between 0 and 5."
   ]
  },
  {
   "cell_type": "code",
   "execution_count": null,
   "id": "diagnostic-stylus",
   "metadata": {},
   "outputs": [],
   "source": []
  }
 ],
 "metadata": {
  "kernelspec": {
   "display_name": "Python 3",
   "language": "python",
   "name": "python3"
  },
  "language_info": {
   "codemirror_mode": {
    "name": "ipython",
    "version": 3
   },
   "file_extension": ".py",
   "mimetype": "text/x-python",
   "name": "python",
   "nbconvert_exporter": "python",
   "pygments_lexer": "ipython3",
   "version": "3.7.9"
  },
  "toc": {
   "base_numbering": 1,
   "nav_menu": {},
   "number_sections": true,
   "sideBar": true,
   "skip_h1_title": false,
   "title_cell": "Table of Contents",
   "title_sidebar": "Contents",
   "toc_cell": false,
   "toc_position": {},
   "toc_section_display": true,
   "toc_window_display": false
  },
  "varInspector": {
   "cols": {
    "lenName": 16,
    "lenType": 16,
    "lenVar": 40
   },
   "kernels_config": {
    "python": {
     "delete_cmd_postfix": "",
     "delete_cmd_prefix": "del ",
     "library": "var_list.py",
     "varRefreshCmd": "print(var_dic_list())"
    },
    "r": {
     "delete_cmd_postfix": ") ",
     "delete_cmd_prefix": "rm(",
     "library": "var_list.r",
     "varRefreshCmd": "cat(var_dic_list()) "
    }
   },
   "types_to_exclude": [
    "module",
    "function",
    "builtin_function_or_method",
    "instance",
    "_Feature"
   ],
   "window_display": false
  }
 },
 "nbformat": 4,
 "nbformat_minor": 5
}
